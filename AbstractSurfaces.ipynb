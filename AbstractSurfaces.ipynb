{
 "cells": [
  {
   "cell_type": "code",
   "execution_count": 2,
   "id": "0da85bd4",
   "metadata": {},
   "outputs": [],
   "source": [
    "import numpy as np\n",
    "import math\n",
    "from osgeo import gdal, ogr, osr, gdal_array\n",
    "import os\n",
    "import random\n",
    "import matplotlib.pyplot as plt"
   ]
  },
  {
   "cell_type": "code",
   "execution_count": null,
   "id": "0af030b1",
   "metadata": {},
   "outputs": [],
   "source": []
  },
  {
   "cell_type": "code",
   "execution_count": 3,
   "id": "53f8fc60",
   "metadata": {
    "scrolled": true
   },
   "outputs": [
    {
     "data": {
      "text/plain": [
       "array([[0., 0., 0., 0., 0., 0., 0., 0., 0., 0., 0., 0., 0., 0., 0., 0.,\n",
       "        0., 0., 0., 0., 0.],\n",
       "       [0., 0., 0., 0., 0., 0., 0., 0., 0., 0., 0., 0., 0., 0., 0., 0.,\n",
       "        0., 0., 0., 0., 0.],\n",
       "       [0., 0., 0., 0., 0., 0., 0., 0., 0., 0., 0., 0., 0., 0., 0., 0.,\n",
       "        0., 0., 0., 0., 0.],\n",
       "       [0., 0., 0., 0., 0., 0., 0., 0., 0., 0., 0., 0., 0., 0., 0., 0.,\n",
       "        0., 0., 0., 0., 0.],\n",
       "       [0., 0., 0., 0., 0., 0., 0., 0., 0., 0., 0., 0., 0., 0., 0., 0.,\n",
       "        0., 0., 0., 0., 0.],\n",
       "       [0., 0., 0., 0., 0., 0., 0., 0., 0., 0., 0., 0., 0., 0., 0., 0.,\n",
       "        0., 0., 0., 0., 0.],\n",
       "       [0., 0., 0., 0., 0., 0., 0., 0., 0., 0., 0., 0., 0., 0., 0., 0.,\n",
       "        0., 0., 0., 0., 0.],\n",
       "       [0., 0., 0., 0., 0., 0., 0., 0., 0., 0., 0., 0., 0., 0., 0., 0.,\n",
       "        0., 0., 0., 0., 0.],\n",
       "       [0., 0., 0., 0., 0., 0., 0., 0., 0., 0., 0., 0., 0., 0., 0., 0.,\n",
       "        0., 0., 0., 0., 0.],\n",
       "       [0., 0., 0., 0., 0., 0., 0., 0., 0., 0., 0., 0., 0., 0., 0., 0.,\n",
       "        0., 0., 0., 0., 0.],\n",
       "       [0., 0., 0., 0., 0., 0., 0., 0., 0., 0., 0., 0., 0., 0., 0., 0.,\n",
       "        0., 0., 0., 0., 0.],\n",
       "       [0., 0., 0., 0., 0., 0., 0., 0., 0., 0., 0., 0., 0., 0., 0., 0.,\n",
       "        0., 0., 0., 0., 0.],\n",
       "       [0., 0., 0., 0., 0., 0., 0., 0., 0., 0., 0., 0., 0., 0., 0., 0.,\n",
       "        0., 0., 0., 0., 0.],\n",
       "       [0., 0., 0., 0., 0., 0., 0., 0., 0., 0., 0., 0., 0., 0., 0., 0.,\n",
       "        0., 0., 0., 0., 0.],\n",
       "       [0., 0., 0., 0., 0., 0., 0., 0., 0., 0., 0., 0., 0., 0., 0., 0.,\n",
       "        0., 0., 0., 0., 0.],\n",
       "       [0., 0., 0., 0., 0., 0., 0., 0., 0., 0., 0., 0., 0., 0., 0., 0.,\n",
       "        0., 0., 0., 0., 0.],\n",
       "       [0., 0., 0., 0., 0., 0., 0., 0., 0., 0., 0., 0., 0., 0., 0., 0.,\n",
       "        0., 0., 0., 0., 0.],\n",
       "       [0., 0., 0., 0., 0., 0., 0., 0., 0., 0., 0., 0., 0., 0., 0., 0.,\n",
       "        0., 0., 0., 0., 0.],\n",
       "       [0., 0., 0., 0., 0., 0., 0., 0., 0., 0., 0., 0., 0., 0., 0., 0.,\n",
       "        0., 0., 0., 0., 0.],\n",
       "       [0., 0., 0., 0., 0., 0., 0., 0., 0., 0., 0., 0., 0., 0., 0., 0.,\n",
       "        0., 0., 0., 0., 0.],\n",
       "       [0., 0., 0., 0., 0., 0., 0., 0., 0., 0., 0., 0., 0., 0., 0., 0.,\n",
       "        0., 0., 0., 0., 0.]])"
      ]
     },
     "execution_count": 3,
     "metadata": {},
     "output_type": "execute_result"
    }
   ],
   "source": [
    "R = 10\n",
    "\n",
    "arr1 = np.zeros((2*R+1, 2*R+1), dtype = 'float')\n",
    "nrows = arr1.shape[0]\n",
    "ncols = arr1.shape[1]\n",
    "arr1"
   ]
  },
  {
   "cell_type": "code",
   "execution_count": 4,
   "id": "e54c4df9",
   "metadata": {},
   "outputs": [
    {
     "data": {
      "text/plain": [
       "21"
      ]
     },
     "execution_count": 4,
     "metadata": {},
     "output_type": "execute_result"
    }
   ],
   "source": [
    "ncols"
   ]
  },
  {
   "cell_type": "code",
   "execution_count": 5,
   "id": "7e1734d7",
   "metadata": {
    "scrolled": true
   },
   "outputs": [
    {
     "name": "stdout",
     "output_type": "stream",
     "text": [
      "[[ 0.   0.   0.   0.   0.   0.   0.   0.   0.   0.   0.   0.   0.   0.\n",
      "   0.   0.   0.   0.   0.   0.   0. ]\n",
      " [ 0.   0.   0.   0.   0.   0.   1.7  3.2  3.9  4.2  4.4  4.2  3.9  3.2\n",
      "   1.7  0.   0.   0.   0.   0.   0. ]\n",
      " [ 0.   0.   0.   0.   0.   3.3  4.5  5.2  5.7  5.9  6.   5.9  5.7  5.2\n",
      "   4.5  3.3  0.   0.   0.   0.   0. ]\n",
      " [ 0.   0.   0.   1.4  3.9  5.1  5.9  6.5  6.9  7.1  7.1  7.1  6.9  6.5\n",
      "   5.9  5.1  3.9  1.4  0.   0.   0. ]\n",
      " [ 0.   0.   0.   3.9  5.3  6.2  6.9  7.4  7.7  7.9  8.   7.9  7.7  7.4\n",
      "   6.9  6.2  5.3  3.9  0.   0.   0. ]\n",
      " [ 0.   0.   3.3  5.1  6.2  7.1  7.7  8.1  8.4  8.6  8.7  8.6  8.4  8.1\n",
      "   7.7  7.1  6.2  5.1  3.3  0.   0. ]\n",
      " [ 0.   1.7  4.5  5.9  6.9  7.7  8.2  8.7  8.9  9.1  9.2  9.1  8.9  8.7\n",
      "   8.2  7.7  6.9  5.9  4.5  1.7  0. ]\n",
      " [ 0.   3.2  5.2  6.5  7.4  8.1  8.7  9.1  9.3  9.5  9.5  9.5  9.3  9.1\n",
      "   8.7  8.1  7.4  6.5  5.2  3.2  0. ]\n",
      " [ 0.   3.9  5.7  6.9  7.7  8.4  8.9  9.3  9.6  9.7  9.8  9.7  9.6  9.3\n",
      "   8.9  8.4  7.7  6.9  5.7  3.9  0. ]\n",
      " [ 0.   4.2  5.9  7.1  7.9  8.6  9.1  9.5  9.7  9.9  9.9  9.9  9.7  9.5\n",
      "   9.1  8.6  7.9  7.1  5.9  4.2  0. ]\n",
      " [ 0.   4.4  6.   7.1  8.   8.7  9.2  9.5  9.8  9.9 10.   9.9  9.8  9.5\n",
      "   9.2  8.7  8.   7.1  6.   4.4  0. ]\n",
      " [ 0.   4.2  5.9  7.1  7.9  8.6  9.1  9.5  9.7  9.9  9.9  9.9  9.7  9.5\n",
      "   9.1  8.6  7.9  7.1  5.9  4.2  0. ]\n",
      " [ 0.   3.9  5.7  6.9  7.7  8.4  8.9  9.3  9.6  9.7  9.8  9.7  9.6  9.3\n",
      "   8.9  8.4  7.7  6.9  5.7  3.9  0. ]\n",
      " [ 0.   3.2  5.2  6.5  7.4  8.1  8.7  9.1  9.3  9.5  9.5  9.5  9.3  9.1\n",
      "   8.7  8.1  7.4  6.5  5.2  3.2  0. ]\n",
      " [ 0.   1.7  4.5  5.9  6.9  7.7  8.2  8.7  8.9  9.1  9.2  9.1  8.9  8.7\n",
      "   8.2  7.7  6.9  5.9  4.5  1.7  0. ]\n",
      " [ 0.   0.   3.3  5.1  6.2  7.1  7.7  8.1  8.4  8.6  8.7  8.6  8.4  8.1\n",
      "   7.7  7.1  6.2  5.1  3.3  0.   0. ]\n",
      " [ 0.   0.   0.   3.9  5.3  6.2  6.9  7.4  7.7  7.9  8.   7.9  7.7  7.4\n",
      "   6.9  6.2  5.3  3.9  0.   0.   0. ]\n",
      " [ 0.   0.   0.   1.4  3.9  5.1  5.9  6.5  6.9  7.1  7.1  7.1  6.9  6.5\n",
      "   5.9  5.1  3.9  1.4  0.   0.   0. ]\n",
      " [ 0.   0.   0.   0.   0.   3.3  4.5  5.2  5.7  5.9  6.   5.9  5.7  5.2\n",
      "   4.5  3.3  0.   0.   0.   0.   0. ]\n",
      " [ 0.   0.   0.   0.   0.   0.   1.7  3.2  3.9  4.2  4.4  4.2  3.9  3.2\n",
      "   1.7  0.   0.   0.   0.   0.   0. ]\n",
      " [ 0.   0.   0.   0.   0.   0.   0.   0.   0.   0.   0.   0.   0.   0.\n",
      "   0.   0.   0.   0.   0.   0.   0. ]]\n"
     ]
    }
   ],
   "source": [
    "#hemisphere\n",
    "for x in range(nrows):\n",
    "    for y in range(ncols):\n",
    "        try:\n",
    "            z = math.sqrt(-(float(x)-R)**2 - (float(y)-R)**2 + R**2)\n",
    "            arr1[x][y] = z\n",
    "        except ValueError:\n",
    "            pass\n",
    "\n",
    "#arr1\n",
    "print(np.array_str(arr1, precision=1))"
   ]
  },
  {
   "cell_type": "code",
   "execution_count": 6,
   "id": "a6c8aef8",
   "metadata": {},
   "outputs": [
    {
     "name": "stdout",
     "output_type": "stream",
     "text": [
      "10.0 0.0\n"
     ]
    }
   ],
   "source": [
    "print(np.max(arr1), np.min(arr1))"
   ]
  },
  {
   "cell_type": "code",
   "execution_count": 8,
   "id": "369572c7",
   "metadata": {},
   "outputs": [
    {
     "data": {
      "image/png": "[encoded data removed]",
      "text/plain": [
       "<Figure size 640x480 with 2 Axes>"
      ]
     },
     "metadata": {},
     "output_type": "display_data"
    }
   ],
   "source": [
    "plt.imshow(arr1, cmap='binary')\n",
    "plt.colorbar()\n",
    "plt.show()"
   ]
  },
  {
   "cell_type": "code",
   "execution_count": 9,
   "id": "02acd433",
   "metadata": {},
   "outputs": [],
   "source": [
    "arr1[0][0]\n",
    "\n",
    "arr2 = np.copy(arr1)"
   ]
  },
  {
   "cell_type": "code",
   "execution_count": 10,
   "id": "0280faa7",
   "metadata": {
    "scrolled": true
   },
   "outputs": [
    {
     "data": {
      "text/plain": [
       "array([[ 0.03418318, -1.50444564, -0.74408081, -1.0388193 , -1.62338547,\n",
       "        -1.16490934, -0.83187365,  0.55973316, -0.12981737,  0.33466711,\n",
       "         1.51222578, -0.82197676,  1.23098675,  0.95012605,  1.29226107,\n",
       "         0.20401324, -0.57101096,  0.05234467,  0.89636901,  0.93299757,\n",
       "         0.65472732],\n",
       "       [ 0.45496046, -0.86629585,  1.28235682, -1.90546435,  0.12408753,\n",
       "         0.69861466,  1.08343464,  5.0471682 ,  4.61567501,  3.50332344,\n",
       "         3.86595448,  3.11434173,  4.69595471,  2.39815399,  0.40616561,\n",
       "         0.51164287, -0.42696914, -0.16591125,  2.06184442, -0.3107672 ,\n",
       "        -2.54228387],\n",
       "       [-0.90423804, -0.35600688, -0.57148356, -1.87709779, -1.7587949 ,\n",
       "         2.8581337 ,  6.62097069,  2.85005939,  5.45928809,  4.94066515,\n",
       "         6.12915234,  5.84747592,  4.05779878,  4.62322424,  3.71039784,\n",
       "         3.52358587, -0.68315605, -0.32344099, -0.43248667,  0.64530606,\n",
       "        -0.16422154],\n",
       "       [-0.34781577, -1.02130833,  0.21910569,  3.67154222,  2.35097857,\n",
       "         4.87841665,  4.57985872,  7.40709395,  4.92677594,  4.62207125,\n",
       "         6.41554763,  7.08552577,  6.39813786,  6.6107081 ,  5.58932433,\n",
       "         5.21785348,  3.94416467,  2.26454906, -1.41151904, -1.02242399,\n",
       "        -0.48752207],\n",
       "       [ 1.42961195,  1.0298803 , -0.82781525,  2.86398966,  5.69540707,\n",
       "         6.37712001,  6.48988101,  6.98113651,  7.72371316,  7.33112279,\n",
       "         7.50568714,  8.1879519 ,  6.36428284,  7.77273095,  7.84082629,\n",
       "         6.12489635,  3.72630859,  4.43782   , -0.19259586,  1.9932312 ,\n",
       "        -0.69693219],\n",
       "       [-0.41784464, -0.9088197 ,  3.04810023,  4.39586867,  5.70492742,\n",
       "         6.54898903,  7.64945742,  8.20658559,  8.99390349,  9.16580659,\n",
       "         8.36129342,  8.17476203,  9.78226253,  7.68050585,  7.41009916,\n",
       "         8.16335991,  7.01269161,  3.80178683,  4.14860978, -0.83551841,\n",
       "         0.06864891],\n",
       "       [-0.54771537,  1.83194542,  1.92937548,  7.18367184,  6.67906653,\n",
       "         8.43994662,  7.87966123,  8.73946075,  9.79905629,  8.67108869,\n",
       "         8.32796192,  9.84105145,  7.52364638,  7.46212368,  7.65585077,\n",
       "         8.66264735,  5.49246917,  6.7733857 ,  3.64381731,  3.28768251,\n",
       "         0.0357394 ],\n",
       "       [ 0.17021337,  2.37726435,  6.34804485,  7.8404891 ,  7.03580546,\n",
       "         9.04900468,  8.33671789,  8.82916023, 11.06535507,  9.97587322,\n",
       "         7.66914858, 10.23699048,  8.03195557,  8.67533529, 10.22854424,\n",
       "         9.26377549,  7.24449138,  5.07688179,  4.79868464,  1.54795721,\n",
       "        -0.21493435],\n",
       "       [-1.20226912,  3.42237128,  5.01342168,  6.67298555,  9.32375642,\n",
       "         8.79863462,  7.99750185,  9.44970493,  9.00127667,  9.50638195,\n",
       "        10.50404938,  8.88039404, 10.31684966,  8.74059596,  8.10684921,\n",
       "         8.72322016,  7.73885719,  7.37010365,  5.12078931,  3.42487396,\n",
       "        -0.90211145],\n",
       "       [ 1.69124141,  3.63071527,  6.97410625,  6.09089064,  6.82013795,\n",
       "         8.92918018,  9.41834046, 10.57747592,  8.58581372, 11.75828403,\n",
       "         7.41922668,  7.51305044, 12.15913505,  9.9241187 ,  9.42989599,\n",
       "         7.89896645,  7.01887103,  6.81556268,  5.05351399,  3.24737912,\n",
       "         0.16691991],\n",
       "       [ 1.36128597,  3.80229151,  4.6123845 ,  6.82574635,  8.3109976 ,\n",
       "         8.47080359,  7.87709336,  9.90728005,  9.85643487,  7.57541405,\n",
       "        10.40595547,  8.60210754, 10.0759448 ,  8.7912879 ,  8.74696043,\n",
       "         8.55593742,  8.91463692,  7.78877114,  4.97462113,  3.59224656,\n",
       "         1.5530448 ],\n",
       "       [ 1.26208062,  5.24844515,  7.07697734,  8.59734499,  7.99626239,\n",
       "         8.91952733,  8.51487228,  9.9020651 ,  9.67698117,  8.98506861,\n",
       "        10.62207898, 10.2918843 , 10.14370796, 10.98002447,  8.23147713,\n",
       "        10.24620116,  8.65030241,  7.66211712,  4.39943358,  3.94700122,\n",
       "         1.11627973],\n",
       "       [ 0.60112922,  5.60995022,  5.16714588,  5.31250492,  7.48427697,\n",
       "        10.1445909 ,  9.02102963,  9.348911  ,  9.08189526, 10.10771931,\n",
       "         8.91904033, 10.70518088,  9.95901586,  8.53293237,  7.82710926,\n",
       "         9.94348154,  8.7497206 ,  7.11736574,  6.34242653,  3.71319431,\n",
       "         0.26180243],\n",
       "       [ 0.51994734,  3.64619247,  5.02592138,  7.10761998,  7.84807018,\n",
       "         9.38620618,  8.35916777,  9.95908923, 10.38284807, 10.07333126,\n",
       "        10.5077417 , 10.93735533,  8.55682409,  8.28641568, 10.94909591,\n",
       "         7.80137032,  7.95205994,  6.44233947,  3.28357432,  1.3256018 ,\n",
       "         0.31537122],\n",
       "       [-0.15129823,  2.43666743,  4.52099894,  5.39495428,  5.83286409,\n",
       "         7.09332716, 10.1052331 ,  8.91439372,  9.07445168,  8.71184812,\n",
       "         9.79752973, 10.0553795 , 10.10462914,  8.20562482,  8.88752614,\n",
       "         8.32539101,  5.93675246,  5.98609917,  3.03569735,  2.23826073,\n",
       "         2.36786582],\n",
       "       [ 0.80978299, -0.88327052,  3.04450239,  4.67410576,  6.39447521,\n",
       "         7.58741131,  8.09118882,  8.42058227,  9.23525734,  7.84441168,\n",
       "         7.41861742,  8.23000435,  9.48436294,  6.74577319,  6.11081409,\n",
       "         6.8664986 ,  4.68213242,  6.55049106,  1.6308894 , -0.98811508,\n",
       "        -0.18297656],\n",
       "       [-1.08346605, -0.81183354,  0.05232215,  3.15627455,  3.74654374,\n",
       "         7.06766209,  7.11362745,  6.42270132,  7.0300365 ,  7.45308181,\n",
       "         7.28839251,  8.63101777,  9.78158131,  7.75741807,  9.29466498,\n",
       "         5.33533862,  4.77819002,  3.97152784, -0.41453521, -1.05528058,\n",
       "         0.75152913],\n",
       "       [-1.01907189, -0.49029217, -1.28489797,  0.89837837,  5.92670829,\n",
       "         4.45312726,  5.89807144,  6.06619807,  8.61168485,  5.69222008,\n",
       "         7.81856471,  8.23105523,  7.22530723,  7.53663511,  7.10136348,\n",
       "         4.21873386,  4.37283585,  1.36996552, -0.29752096, -1.21204025,\n",
       "        -0.33309418],\n",
       "       [-1.69010976,  0.62548767,  0.25504665, -0.060083  , -1.2386717 ,\n",
       "         3.18792722,  3.02285195,  5.67812515,  6.85427659,  7.49971504,\n",
       "         6.89270729,  6.13884026,  7.50700367,  6.5330428 ,  4.80852594,\n",
       "         3.56384333,  0.1316851 ,  1.7363534 ,  1.94800189, -1.58749429,\n",
       "        -1.35438482],\n",
       "       [-1.45283002,  0.24661541,  0.79780363, -1.32012857, -1.33705975,\n",
       "        -0.20769291,  1.3204718 ,  3.33551724,  4.20460886,  3.77685945,\n",
       "         3.70037262,  2.39184024,  2.43687729,  2.62358995,  0.84429846,\n",
       "         1.36080806,  0.40521456, -0.81197184, -1.04960168, -0.90486721,\n",
       "         1.50472244],\n",
       "       [ 1.62502786, -0.2689683 ,  0.0778229 , -1.21593177, -0.12389929,\n",
       "        -0.48858584,  1.44172538,  0.68830523, -0.59406766,  0.24263224,\n",
       "         1.62065011, -0.48100714, -1.23475535,  0.3727988 ,  0.30577183,\n",
       "        -1.86894989, -0.25838112,  0.80964435,  0.43780003, -1.27429889,\n",
       "         0.89174577]])"
      ]
     },
     "execution_count": 10,
     "metadata": {},
     "output_type": "execute_result"
    }
   ],
   "source": [
    "#noising\n",
    "#numpy.random.randn\n",
    "arr_n = np.random.randn(nrows, ncols)\n",
    "arr_k = arr1 + arr_n\n",
    "arr_k"
   ]
  },
  {
   "cell_type": "code",
   "execution_count": 12,
   "id": "ccd2d780",
   "metadata": {},
   "outputs": [],
   "source": [
    "#fig, ax = plt.subplots(1, 3)\n",
    "#ax[0].contour(arr1)\n",
    "#ax[1].contour(arr_n)\n",
    "#ax[2].contour(arr_k)\n",
    "#plt.show()"
   ]
  },
  {
   "cell_type": "code",
   "execution_count": 13,
   "id": "51ee14af",
   "metadata": {},
   "outputs": [
    {
     "data": {
      "image/png": "[encoded data removed]",
      "text/plain": [
       "<Figure size 640x480 with 2 Axes>"
      ]
     },
     "metadata": {},
     "output_type": "display_data"
    }
   ],
   "source": [
    "plt.imshow(arr_k, cmap='binary')\n",
    "plt.colorbar()\n",
    "plt.show()"
   ]
  },
  {
   "cell_type": "code",
   "execution_count": 23,
   "id": "ec89adad",
   "metadata": {},
   "outputs": [
    {
     "data": {
      "image/png": "[encoded data removed]",
      "text/plain": [
       "<Figure size 1600x1100 with 4 Axes>"
      ]
     },
     "metadata": {},
     "output_type": "display_data"
    }
   ],
   "source": [
    "fig = plt.figure(figsize=(16, 11))\n",
    "\n",
    "ax1 = fig.add_subplot(1, 2, 1)\n",
    "ax1.set_title('Original DEM')\n",
    "plt.imshow(arr1, cmap='binary')\n",
    "plt.colorbar()\n",
    "\n",
    "ax2 = fig.add_subplot(1, 2, 2)\n",
    "ax2.set_title('Noisy DEM')\n",
    "plt.imshow(arr_k, cmap='binary')\n",
    "plt.colorbar()\n",
    "plt.show()"
   ]
  },
  {
   "cell_type": "code",
   "execution_count": 14,
   "id": "136f31cf",
   "metadata": {
    "scrolled": true
   },
   "outputs": [
    {
     "data": {
      "text/plain": [
       "array([[-0.03418318,  1.50444564,  0.74408081,  1.0388193 ,  1.62338547,\n",
       "         1.16490934,  0.83187365, -0.55973316,  0.12981737, -0.33466711,\n",
       "        -1.51222578,  0.82197676, -1.23098675, -0.95012605, -1.29226107,\n",
       "        -0.20401324,  0.57101096, -0.05234467, -0.89636901, -0.93299757,\n",
       "        -0.65472732],\n",
       "       [-0.45496046,  0.86629585, -1.28235682,  1.90546435, -0.12408753,\n",
       "        -0.69861466,  0.64861617, -1.88489054, -0.74269167,  0.73931724,\n",
       "         0.49294447,  1.12829896, -0.82297137,  0.76412367,  1.3258852 ,\n",
       "        -0.51164287,  0.42696914,  0.16591125, -2.06184442,  0.3107672 ,\n",
       "         2.54228387],\n",
       "       [ 0.90423804,  0.35600688,  0.57148356,  1.87709779,  1.7587949 ,\n",
       "         0.45849109, -2.14883473,  2.34609303,  0.19756616,  0.97541463,\n",
       "        -0.12915234,  0.06860386,  1.59905547,  0.57292818,  0.76173811,\n",
       "        -0.20696108,  0.68315605,  0.32344099,  0.43248667, -0.64530606,\n",
       "         0.16422154],\n",
       "       [ 0.34781577,  1.02130833, -0.21910569, -2.25732866,  1.52200478,\n",
       "         0.22060287,  1.33622107, -0.92635325,  1.92887866,  2.44899656,\n",
       "         0.7258808 , -0.01445796,  0.45751674, -0.1299674 ,  0.32675545,\n",
       "        -0.11883397, -0.07118132, -0.8503355 ,  1.41151904,  1.02242399,\n",
       "         0.48752207],\n",
       "       [-1.42961195, -1.0298803 ,  0.82781525,  1.00899369, -0.40390445,\n",
       "        -0.13212201,  0.43832222,  0.43506197,  0.02225353,  0.60613114,\n",
       "         0.49431286, -0.25069797,  1.38168385, -0.35653246, -0.91262306,\n",
       "         0.12010165,  1.56519403, -0.56483665,  0.19259586, -1.9932312 ,\n",
       "         0.69693219],\n",
       "       [ 0.41784464,  0.9088197 ,  0.26852456,  0.70315084,  0.54007058,\n",
       "         0.52207878,  0.03168833, -0.08254719, -0.56775372, -0.56348132,\n",
       "         0.29896061,  0.42756324, -1.35611276,  0.44353256,  0.27104659,\n",
       "        -1.0922921 , -0.76769361,  1.29723269, -0.83198499,  0.83551841,\n",
       "        -0.06864891],\n",
       "       [ 0.54771537, -0.09989461,  2.54276048, -1.26759205,  0.2491367 ,\n",
       "        -0.75880088,  0.36655002, -0.07920672, -0.85478438,  0.43934489,\n",
       "         0.83718947, -0.73061787,  1.42062553,  1.19813036,  0.59036048,\n",
       "        -0.98150161,  1.43573406, -0.85730591,  0.82831865, -1.5556317 ,\n",
       "        -0.0357394 ],\n",
       "       [-0.17021337,  0.78501331, -1.15189243, -1.3597484 ,  0.38039303,\n",
       "        -0.92496628,  0.32353614,  0.22622491, -1.73797602, -0.48904024,\n",
       "         1.87024343, -0.7501575 ,  1.29542348,  0.38004985, -1.56829021,\n",
       "        -1.13973708,  0.17170711,  1.40385891,  0.39746778,  1.61432045,\n",
       "         0.21493435],\n",
       "       [ 1.20226912,  0.45061206,  0.64343257,  0.18266905, -1.57778973,\n",
       "        -0.37248485,  0.94677006, -0.12232588,  0.59038637,  0.24041239,\n",
       "        -0.70609041,  0.8664003 , -0.72518662,  0.58678309,  0.8374227 ,\n",
       "        -0.29707039,  0.0071095 , -0.51444905,  0.53606494,  0.44810939,\n",
       "         0.90211145],\n",
       "       [-1.69124141,  0.61192542, -1.05802646,  0.98017718,  1.11711598,\n",
       "        -0.32685491, -0.30790688, -1.09064294,  1.16098062, -1.85878909,\n",
       "         2.53064769,  2.38644449, -2.41234071, -0.43728572, -0.31946241,\n",
       "         0.70335882,  0.91838291,  0.25550514,  0.8625658 ,  0.99526157,\n",
       "        -0.16691991],\n",
       "       [-1.36128597,  0.55660743,  1.3876155 ,  0.31568208, -0.3109976 ,\n",
       "         0.18945045,  1.28805803, -0.36788804, -0.0584759 ,  2.37446032,\n",
       "        -0.40595547,  1.34776683, -0.27798583,  0.74810411,  0.41819096,\n",
       "         0.10431661, -0.91463692, -0.64734272,  1.02537887,  0.76665238,\n",
       "        -1.5530448 ],\n",
       "       [-1.26208062, -1.00580446, -1.16089756, -1.52627718, -0.05900845,\n",
       "        -0.31720206,  0.5955613 , -0.41523212,  0.06981318,  0.91442632,\n",
       "        -0.67220461, -0.39238937, -0.39691362, -1.49319149,  0.87895645,\n",
       "        -1.6438759 , -0.71304848, -0.59104931,  1.51664621,  0.29563947,\n",
       "        -1.11627973],\n",
       "       [-0.60112922, -1.73696688,  0.48970837,  1.54314968,  0.26168972,\n",
       "        -1.71844113, -0.07675772, -0.02153194,  0.50976779, -0.36092497,\n",
       "         0.87891864, -0.95838653, -0.36735282,  0.79444668,  1.11716265,\n",
       "        -1.51733176, -1.00375391, -0.26171114, -0.68557228,  0.15978903,\n",
       "        -0.26180243],\n",
       "       [-0.51994734, -0.48391481,  0.17023104, -0.62687928, -0.4318717 ,\n",
       "        -1.26216777,  0.30108627, -0.9037041 , -1.05546902, -0.58649828,\n",
       "        -0.96834969, -1.45052235,  0.77055496,  0.76896946, -2.28884187,\n",
       "         0.32266808, -0.53586145,  0.03840123,  1.9125781 ,  1.83667586,\n",
       "        -0.31537122],\n",
       "       [ 0.15129823, -0.70461662, -0.04886298,  0.52112551,  1.09533914,\n",
       "         0.58781859, -1.85902184, -0.25413969, -0.13017977,  0.39858546,\n",
       "        -0.63237834, -0.94494592, -1.16035723,  0.45462922, -0.64131489,\n",
       "        -0.64424527,  0.99145077, -0.07001939,  1.4364386 , -0.50620992,\n",
       "        -2.36786582],\n",
       "       [-0.80978299,  0.88327052,  0.2721224 ,  0.42491375, -0.14947721,\n",
       "        -0.5163435 , -0.41004307, -0.29654387, -0.80910756,  0.75791359,\n",
       "         1.24163662,  0.37232092, -1.05821317,  1.37826521,  1.57033166,\n",
       "         0.20456921,  1.56286558, -1.45147154,  1.68573539,  0.98811508,\n",
       "         0.18297656],\n",
       "       [ 1.08346605,  0.81183354, -0.05232215,  0.7167088 ,  1.54495888,\n",
       "        -0.82266409, -0.18542422,  0.99349717,  0.71593019,  0.48417212,\n",
       "         0.71160749, -0.69376384, -2.03561462, -0.34121958, -2.36646175,\n",
       "         0.90965938,  0.5133126 , -0.09854449,  0.41453521,  1.05528058,\n",
       "        -0.75152913],\n",
       "       [ 1.01907189,  0.49029217,  1.28489797,  0.51583519, -2.05372495,\n",
       "         0.64589225,  0.01800834,  0.41454263, -1.75603025,  1.37884773,\n",
       "        -0.67713628, -1.15998742, -0.36965263, -1.05589441, -1.1852837 ,\n",
       "         0.88028565, -0.4998525 ,  0.04424804,  0.29752096,  1.21204025,\n",
       "         0.33309418],\n",
       "       [ 1.69010976, -0.62548767, -0.25504665,  0.060083  ,  1.2386717 ,\n",
       "         0.12869757,  1.44928401, -0.48197273, -1.19742234, -1.58363526,\n",
       "        -0.89270729, -0.22276048, -1.85014942, -1.33689038, -0.33638998,\n",
       "        -0.24721854, -0.1316851 , -1.7363534 , -1.94800189,  1.58749429,\n",
       "         1.35438482],\n",
       "       [ 1.45283002, -0.24661541, -0.79780363,  1.32012857,  1.33705975,\n",
       "         0.20769291,  0.41157901, -0.17323958, -0.33162551,  0.46578124,\n",
       "         0.65852632,  1.85080045,  1.43610605,  0.53868771,  0.88775235,\n",
       "        -1.36080806, -0.40521456,  0.81197184,  1.04960168,  0.90486721,\n",
       "        -1.50472244],\n",
       "       [-1.62502786,  0.2689683 , -0.0778229 ,  1.21593177,  0.12389929,\n",
       "         0.48858584, -1.44172538, -0.68830523,  0.59406766, -0.24263224,\n",
       "        -1.62065011,  0.48100714,  1.23475535, -0.3727988 , -0.30577183,\n",
       "         1.86894989,  0.25838112, -0.80964435, -0.43780003,  1.27429889,\n",
       "        -0.89174577]])"
      ]
     },
     "execution_count": 14,
     "metadata": {},
     "output_type": "execute_result"
    }
   ],
   "source": [
    "#difference (clear-noisy)\n",
    "np.subtract(arr1, arr_k)"
   ]
  },
  {
   "cell_type": "code",
   "execution_count": 22,
   "id": "74b1bd6c",
   "metadata": {},
   "outputs": [],
   "source": [
    "driver = gdal.GetDriverByName('GTiff')\n",
    "\n",
    "gtiff = driver.Create('C:/Users/sasha/dem_filter/hemisphere_100.tif', ncols, nrows, 1, gdal.GDT_Float32)\n",
    "#gtiff.SetGeoTransform(gtf)\n",
    "#gtiff.SetProjection(proj)\n",
    "gtiff.GetRasterBand(1).WriteArray(arr1)\n",
    "# gtiff.FlushCache()\n",
    "gtiff = None"
   ]
  },
  {
   "cell_type": "code",
   "execution_count": 19,
   "id": "1601adec",
   "metadata": {},
   "outputs": [
    {
     "data": {
      "text/plain": [
       "array([[ 0.        ,  4.35889894,  6.        ,  7.14142843,  8.        ,\n",
       "         8.66025404,  9.16515139,  9.53939201,  9.79795897,  9.94987437,\n",
       "        10.        ,  9.94987437,  9.79795897,  9.53939201,  9.16515139,\n",
       "         8.66025404,  8.        ,  7.14142843,  6.        ,  4.35889894,\n",
       "         0.        ],\n",
       "       [ 0.        ,  4.35889894,  6.        ,  7.14142843,  8.        ,\n",
       "         8.66025404,  9.16515139,  9.53939201,  9.79795897,  9.94987437,\n",
       "        10.        ,  9.94987437,  9.79795897,  9.53939201,  9.16515139,\n",
       "         8.66025404,  8.        ,  7.14142843,  6.        ,  4.35889894,\n",
       "         0.        ],\n",
       "       [ 0.        ,  4.35889894,  6.        ,  7.14142843,  8.        ,\n",
       "         8.66025404,  9.16515139,  9.53939201,  9.79795897,  9.94987437,\n",
       "        10.        ,  9.94987437,  9.79795897,  9.53939201,  9.16515139,\n",
       "         8.66025404,  8.        ,  7.14142843,  6.        ,  4.35889894,\n",
       "         0.        ],\n",
       "       [ 0.        ,  4.35889894,  6.        ,  7.14142843,  8.        ,\n",
       "         8.66025404,  9.16515139,  9.53939201,  9.79795897,  9.94987437,\n",
       "        10.        ,  9.94987437,  9.79795897,  9.53939201,  9.16515139,\n",
       "         8.66025404,  8.        ,  7.14142843,  6.        ,  4.35889894,\n",
       "         0.        ],\n",
       "       [ 0.        ,  4.35889894,  6.        ,  7.14142843,  8.        ,\n",
       "         8.66025404,  9.16515139,  9.53939201,  9.79795897,  9.94987437,\n",
       "        10.        ,  9.94987437,  9.79795897,  9.53939201,  9.16515139,\n",
       "         8.66025404,  8.        ,  7.14142843,  6.        ,  4.35889894,\n",
       "         0.        ],\n",
       "       [ 0.        ,  4.35889894,  6.        ,  7.14142843,  8.        ,\n",
       "         8.66025404,  9.16515139,  9.53939201,  9.79795897,  9.94987437,\n",
       "        10.        ,  9.94987437,  9.79795897,  9.53939201,  9.16515139,\n",
       "         8.66025404,  8.        ,  7.14142843,  6.        ,  4.35889894,\n",
       "         0.        ],\n",
       "       [ 0.        ,  4.35889894,  6.        ,  7.14142843,  8.        ,\n",
       "         8.66025404,  9.16515139,  9.53939201,  9.79795897,  9.94987437,\n",
       "        10.        ,  9.94987437,  9.79795897,  9.53939201,  9.16515139,\n",
       "         8.66025404,  8.        ,  7.14142843,  6.        ,  4.35889894,\n",
       "         0.        ],\n",
       "       [ 0.        ,  4.35889894,  6.        ,  7.14142843,  8.        ,\n",
       "         8.66025404,  9.16515139,  9.53939201,  9.79795897,  9.94987437,\n",
       "        10.        ,  9.94987437,  9.79795897,  9.53939201,  9.16515139,\n",
       "         8.66025404,  8.        ,  7.14142843,  6.        ,  4.35889894,\n",
       "         0.        ],\n",
       "       [ 0.        ,  4.35889894,  6.        ,  7.14142843,  8.        ,\n",
       "         8.66025404,  9.16515139,  9.53939201,  9.79795897,  9.94987437,\n",
       "        10.        ,  9.94987437,  9.79795897,  9.53939201,  9.16515139,\n",
       "         8.66025404,  8.        ,  7.14142843,  6.        ,  4.35889894,\n",
       "         0.        ],\n",
       "       [ 0.        ,  4.35889894,  6.        ,  7.14142843,  8.        ,\n",
       "         8.66025404,  9.16515139,  9.53939201,  9.79795897,  9.94987437,\n",
       "        10.        ,  9.94987437,  9.79795897,  9.53939201,  9.16515139,\n",
       "         8.66025404,  8.        ,  7.14142843,  6.        ,  4.35889894,\n",
       "         0.        ],\n",
       "       [ 0.        ,  4.35889894,  6.        ,  7.14142843,  8.        ,\n",
       "         8.66025404,  9.16515139,  9.53939201,  9.79795897,  9.94987437,\n",
       "        10.        ,  9.94987437,  9.79795897,  9.53939201,  9.16515139,\n",
       "         8.66025404,  8.        ,  7.14142843,  6.        ,  4.35889894,\n",
       "         0.        ],\n",
       "       [ 0.        ,  4.35889894,  6.        ,  7.14142843,  8.        ,\n",
       "         8.66025404,  9.16515139,  9.53939201,  9.79795897,  9.94987437,\n",
       "        10.        ,  9.94987437,  9.79795897,  9.53939201,  9.16515139,\n",
       "         8.66025404,  8.        ,  7.14142843,  6.        ,  4.35889894,\n",
       "         0.        ],\n",
       "       [ 0.        ,  4.35889894,  6.        ,  7.14142843,  8.        ,\n",
       "         8.66025404,  9.16515139,  9.53939201,  9.79795897,  9.94987437,\n",
       "        10.        ,  9.94987437,  9.79795897,  9.53939201,  9.16515139,\n",
       "         8.66025404,  8.        ,  7.14142843,  6.        ,  4.35889894,\n",
       "         0.        ],\n",
       "       [ 0.        ,  4.35889894,  6.        ,  7.14142843,  8.        ,\n",
       "         8.66025404,  9.16515139,  9.53939201,  9.79795897,  9.94987437,\n",
       "        10.        ,  9.94987437,  9.79795897,  9.53939201,  9.16515139,\n",
       "         8.66025404,  8.        ,  7.14142843,  6.        ,  4.35889894,\n",
       "         0.        ],\n",
       "       [ 0.        ,  4.35889894,  6.        ,  7.14142843,  8.        ,\n",
       "         8.66025404,  9.16515139,  9.53939201,  9.79795897,  9.94987437,\n",
       "        10.        ,  9.94987437,  9.79795897,  9.53939201,  9.16515139,\n",
       "         8.66025404,  8.        ,  7.14142843,  6.        ,  4.35889894,\n",
       "         0.        ],\n",
       "       [ 0.        ,  4.35889894,  6.        ,  7.14142843,  8.        ,\n",
       "         8.66025404,  9.16515139,  9.53939201,  9.79795897,  9.94987437,\n",
       "        10.        ,  9.94987437,  9.79795897,  9.53939201,  9.16515139,\n",
       "         8.66025404,  8.        ,  7.14142843,  6.        ,  4.35889894,\n",
       "         0.        ],\n",
       "       [ 0.        ,  4.35889894,  6.        ,  7.14142843,  8.        ,\n",
       "         8.66025404,  9.16515139,  9.53939201,  9.79795897,  9.94987437,\n",
       "        10.        ,  9.94987437,  9.79795897,  9.53939201,  9.16515139,\n",
       "         8.66025404,  8.        ,  7.14142843,  6.        ,  4.35889894,\n",
       "         0.        ],\n",
       "       [ 0.        ,  4.35889894,  6.        ,  7.14142843,  8.        ,\n",
       "         8.66025404,  9.16515139,  9.53939201,  9.79795897,  9.94987437,\n",
       "        10.        ,  9.94987437,  9.79795897,  9.53939201,  9.16515139,\n",
       "         8.66025404,  8.        ,  7.14142843,  6.        ,  4.35889894,\n",
       "         0.        ],\n",
       "       [ 0.        ,  4.35889894,  6.        ,  7.14142843,  8.        ,\n",
       "         8.66025404,  9.16515139,  9.53939201,  9.79795897,  9.94987437,\n",
       "        10.        ,  9.94987437,  9.79795897,  9.53939201,  9.16515139,\n",
       "         8.66025404,  8.        ,  7.14142843,  6.        ,  4.35889894,\n",
       "         0.        ],\n",
       "       [ 0.        ,  4.35889894,  6.        ,  7.14142843,  8.        ,\n",
       "         8.66025404,  9.16515139,  9.53939201,  9.79795897,  9.94987437,\n",
       "        10.        ,  9.94987437,  9.79795897,  9.53939201,  9.16515139,\n",
       "         8.66025404,  8.        ,  7.14142843,  6.        ,  4.35889894,\n",
       "         0.        ],\n",
       "       [ 0.        ,  4.35889894,  6.        ,  7.14142843,  8.        ,\n",
       "         8.66025404,  9.16515139,  9.53939201,  9.79795897,  9.94987437,\n",
       "        10.        ,  9.94987437,  9.79795897,  9.53939201,  9.16515139,\n",
       "         8.66025404,  8.        ,  7.14142843,  6.        ,  4.35889894,\n",
       "         0.        ],\n",
       "       [ 0.        ,  4.35889894,  6.        ,  7.14142843,  8.        ,\n",
       "         8.66025404,  9.16515139,  9.53939201,  9.79795897,  9.94987437,\n",
       "        10.        ,  9.94987437,  9.79795897,  9.53939201,  9.16515139,\n",
       "         8.66025404,  8.        ,  7.14142843,  6.        ,  4.35889894,\n",
       "         0.        ],\n",
       "       [ 0.        ,  4.35889894,  6.        ,  7.14142843,  8.        ,\n",
       "         8.66025404,  9.16515139,  9.53939201,  9.79795897,  9.94987437,\n",
       "        10.        ,  9.94987437,  9.79795897,  9.53939201,  9.16515139,\n",
       "         8.66025404,  8.        ,  7.14142843,  6.        ,  4.35889894,\n",
       "         0.        ],\n",
       "       [ 0.        ,  4.35889894,  6.        ,  7.14142843,  8.        ,\n",
       "         8.66025404,  9.16515139,  9.53939201,  9.79795897,  9.94987437,\n",
       "        10.        ,  9.94987437,  9.79795897,  9.53939201,  9.16515139,\n",
       "         8.66025404,  8.        ,  7.14142843,  6.        ,  4.35889894,\n",
       "         0.        ],\n",
       "       [ 0.        ,  4.35889894,  6.        ,  7.14142843,  8.        ,\n",
       "         8.66025404,  9.16515139,  9.53939201,  9.79795897,  9.94987437,\n",
       "        10.        ,  9.94987437,  9.79795897,  9.53939201,  9.16515139,\n",
       "         8.66025404,  8.        ,  7.14142843,  6.        ,  4.35889894,\n",
       "         0.        ],\n",
       "       [ 0.        ,  4.35889894,  6.        ,  7.14142843,  8.        ,\n",
       "         8.66025404,  9.16515139,  9.53939201,  9.79795897,  9.94987437,\n",
       "        10.        ,  9.94987437,  9.79795897,  9.53939201,  9.16515139,\n",
       "         8.66025404,  8.        ,  7.14142843,  6.        ,  4.35889894,\n",
       "         0.        ],\n",
       "       [ 0.        ,  4.35889894,  6.        ,  7.14142843,  8.        ,\n",
       "         8.66025404,  9.16515139,  9.53939201,  9.79795897,  9.94987437,\n",
       "        10.        ,  9.94987437,  9.79795897,  9.53939201,  9.16515139,\n",
       "         8.66025404,  8.        ,  7.14142843,  6.        ,  4.35889894,\n",
       "         0.        ],\n",
       "       [ 0.        ,  4.35889894,  6.        ,  7.14142843,  8.        ,\n",
       "         8.66025404,  9.16515139,  9.53939201,  9.79795897,  9.94987437,\n",
       "        10.        ,  9.94987437,  9.79795897,  9.53939201,  9.16515139,\n",
       "         8.66025404,  8.        ,  7.14142843,  6.        ,  4.35889894,\n",
       "         0.        ],\n",
       "       [ 0.        ,  4.35889894,  6.        ,  7.14142843,  8.        ,\n",
       "         8.66025404,  9.16515139,  9.53939201,  9.79795897,  9.94987437,\n",
       "        10.        ,  9.94987437,  9.79795897,  9.53939201,  9.16515139,\n",
       "         8.66025404,  8.        ,  7.14142843,  6.        ,  4.35889894,\n",
       "         0.        ],\n",
       "       [ 0.        ,  4.35889894,  6.        ,  7.14142843,  8.        ,\n",
       "         8.66025404,  9.16515139,  9.53939201,  9.79795897,  9.94987437,\n",
       "        10.        ,  9.94987437,  9.79795897,  9.53939201,  9.16515139,\n",
       "         8.66025404,  8.        ,  7.14142843,  6.        ,  4.35889894,\n",
       "         0.        ],\n",
       "       [ 0.        ,  4.35889894,  6.        ,  7.14142843,  8.        ,\n",
       "         8.66025404,  9.16515139,  9.53939201,  9.79795897,  9.94987437,\n",
       "        10.        ,  9.94987437,  9.79795897,  9.53939201,  9.16515139,\n",
       "         8.66025404,  8.        ,  7.14142843,  6.        ,  4.35889894,\n",
       "         0.        ],\n",
       "       [ 0.        ,  4.35889894,  6.        ,  7.14142843,  8.        ,\n",
       "         8.66025404,  9.16515139,  9.53939201,  9.79795897,  9.94987437,\n",
       "        10.        ,  9.94987437,  9.79795897,  9.53939201,  9.16515139,\n",
       "         8.66025404,  8.        ,  7.14142843,  6.        ,  4.35889894,\n",
       "         0.        ],\n",
       "       [ 0.        ,  4.35889894,  6.        ,  7.14142843,  8.        ,\n",
       "         8.66025404,  9.16515139,  9.53939201,  9.79795897,  9.94987437,\n",
       "        10.        ,  9.94987437,  9.79795897,  9.53939201,  9.16515139,\n",
       "         8.66025404,  8.        ,  7.14142843,  6.        ,  4.35889894,\n",
       "         0.        ],\n",
       "       [ 0.        ,  4.35889894,  6.        ,  7.14142843,  8.        ,\n",
       "         8.66025404,  9.16515139,  9.53939201,  9.79795897,  9.94987437,\n",
       "        10.        ,  9.94987437,  9.79795897,  9.53939201,  9.16515139,\n",
       "         8.66025404,  8.        ,  7.14142843,  6.        ,  4.35889894,\n",
       "         0.        ],\n",
       "       [ 0.        ,  4.35889894,  6.        ,  7.14142843,  8.        ,\n",
       "         8.66025404,  9.16515139,  9.53939201,  9.79795897,  9.94987437,\n",
       "        10.        ,  9.94987437,  9.79795897,  9.53939201,  9.16515139,\n",
       "         8.66025404,  8.        ,  7.14142843,  6.        ,  4.35889894,\n",
       "         0.        ],\n",
       "       [ 0.        ,  4.35889894,  6.        ,  7.14142843,  8.        ,\n",
       "         8.66025404,  9.16515139,  9.53939201,  9.79795897,  9.94987437,\n",
       "        10.        ,  9.94987437,  9.79795897,  9.53939201,  9.16515139,\n",
       "         8.66025404,  8.        ,  7.14142843,  6.        ,  4.35889894,\n",
       "         0.        ],\n",
       "       [ 0.        ,  4.35889894,  6.        ,  7.14142843,  8.        ,\n",
       "         8.66025404,  9.16515139,  9.53939201,  9.79795897,  9.94987437,\n",
       "        10.        ,  9.94987437,  9.79795897,  9.53939201,  9.16515139,\n",
       "         8.66025404,  8.        ,  7.14142843,  6.        ,  4.35889894,\n",
       "         0.        ],\n",
       "       [ 0.        ,  4.35889894,  6.        ,  7.14142843,  8.        ,\n",
       "         8.66025404,  9.16515139,  9.53939201,  9.79795897,  9.94987437,\n",
       "        10.        ,  9.94987437,  9.79795897,  9.53939201,  9.16515139,\n",
       "         8.66025404,  8.        ,  7.14142843,  6.        ,  4.35889894,\n",
       "         0.        ],\n",
       "       [ 0.        ,  4.35889894,  6.        ,  7.14142843,  8.        ,\n",
       "         8.66025404,  9.16515139,  9.53939201,  9.79795897,  9.94987437,\n",
       "        10.        ,  9.94987437,  9.79795897,  9.53939201,  9.16515139,\n",
       "         8.66025404,  8.        ,  7.14142843,  6.        ,  4.35889894,\n",
       "         0.        ],\n",
       "       [ 0.        ,  4.35889894,  6.        ,  7.14142843,  8.        ,\n",
       "         8.66025404,  9.16515139,  9.53939201,  9.79795897,  9.94987437,\n",
       "        10.        ,  9.94987437,  9.79795897,  9.53939201,  9.16515139,\n",
       "         8.66025404,  8.        ,  7.14142843,  6.        ,  4.35889894,\n",
       "         0.        ]])"
      ]
     },
     "execution_count": 19,
     "metadata": {},
     "output_type": "execute_result"
    }
   ],
   "source": [
    "#hemicylinder\n",
    "R = 10\n",
    "\n",
    "arr_c = np.zeros((int(4*R), int(2*R)+1), dtype = 'float')\n",
    "nrows = arr_c.shape[0]\n",
    "ncols = arr_c.shape[1]\n",
    "\n",
    "\n",
    "for x in range(nrows):\n",
    "    for y in range(ncols):\n",
    "        try:\n",
    "            z = math.sqrt(R**2 - (float(y)-R)**2)\n",
    "            arr_c[x][y] = z\n",
    "        except ValueError:\n",
    "            pass\n",
    "\n",
    "arr_c"
   ]
  },
  {
   "cell_type": "code",
   "execution_count": 20,
   "id": "8b3049b6",
   "metadata": {},
   "outputs": [
    {
     "data": {
      "text/plain": [
       "10.0"
      ]
     },
     "execution_count": 20,
     "metadata": {},
     "output_type": "execute_result"
    }
   ],
   "source": [
    "np.max(arr_c)"
   ]
  },
  {
   "cell_type": "code",
   "execution_count": 21,
   "id": "a1e58f8e",
   "metadata": {},
   "outputs": [
    {
     "data": {
      "image/png": "[encoded data removed]",
      "text/plain": [
       "<Figure size 640x480 with 2 Axes>"
      ]
     },
     "metadata": {},
     "output_type": "display_data"
    }
   ],
   "source": [
    "plt.imshow(arr_c, cmap='binary')\n",
    "plt.colorbar()\n",
    "plt.show()"
   ]
  },
  {
   "cell_type": "code",
   "execution_count": 20,
   "id": "aa2b7996",
   "metadata": {},
   "outputs": [],
   "source": [
    "driver = gdal.GetDriverByName('GTiff')\n",
    "\n",
    "gtiff = driver.Create('C:/Users/sasha/dem_filter/hemicylinder_test.tif', ncols, nrows, 1, gdal.GDT_Float32)\n",
    "#gtiff.SetGeoTransform(gtf)\n",
    "#gtiff.SetProjection(proj)\n",
    "gtiff.GetRasterBand(1).WriteArray(arr_c)\n",
    "# gtiff.FlushCache()\n",
    "gtiff = None"
   ]
  },
  {
   "cell_type": "code",
   "execution_count": null,
   "id": "a473c672",
   "metadata": {},
   "outputs": [],
   "source": []
  }
 ],
 "metadata": {
  "kernelspec": {
   "display_name": "-dem-filter",
   "language": "python",
   "name": "-dem-filter"
  },
  "language_info": {
   "codemirror_mode": {
    "name": "ipython",
    "version": 3
   },
   "file_extension": ".py",
   "mimetype": "text/x-python",
   "name": "python",
   "nbconvert_exporter": "python",
   "pygments_lexer": "ipython3",
   "version": "3.11.5"
  }
 },
 "nbformat": 4,
 "nbformat_minor": 5
}
