{
 "cells": [
  {
   "cell_type": "code",
   "execution_count": 5,
   "id": "e118ce8f",
   "metadata": {},
   "outputs": [],
   "source": [
    "import numpy as np\n",
    "import math\n",
    "from osgeo import gdal, ogr, osr, gdal_array\n",
    "import os\n",
    "import random\n",
    "import matplotlib.pyplot as plt\n",
    "import whitebox as WBT"
   ]
  },
  {
   "cell_type": "code",
   "execution_count": 7,
   "id": "04465c77",
   "metadata": {},
   "outputs": [
    {
     "name": "stdout",
     "output_type": "stream",
     "text": [
      "Downloading WhiteboxTools pre-compiled binary for first time use ...\n",
      "Decompressing WhiteboxTools_win_amd64.zip ...\n",
      "WhiteboxTools package directory: C:\\Users\\sasha\\anaconda3\\envs\\dem-filter\\Lib\\site-packages\\whitebox\n",
      "Downloading testdata ...\n"
     ]
    }
   ],
   "source": [
    "from whitebox.whitebox_tools import WhiteboxTools\n",
    "\n",
    "wbt = WhiteboxTools()\n"
   ]
  }
 ],
 "metadata": {
  "kernelspec": {
   "display_name": "-dem-filter",
   "language": "python",
   "name": "-dem-filter"
  },
  "language_info": {
   "codemirror_mode": {
    "name": "ipython",
    "version": 3
   },
   "file_extension": ".py",
   "mimetype": "text/x-python",
   "name": "python",
   "nbconvert_exporter": "python",
   "pygments_lexer": "ipython3",
   "version": "3.11.5"
  }
 },
 "nbformat": 4,
 "nbformat_minor": 5
}
