{
 "cells": [
  {
   "cell_type": "code",
   "execution_count": 1,
   "id": "6dab6604",
   "metadata": {},
   "outputs": [],
   "source": [
    "from WBT.whitebox_tools import WhiteboxTools\n",
    "import rasterio\n",
    "import os\n",
    "import matplotlib.pyplot as plt\n",
    "import numpy as np\n",
    "import shutil\n",
    "import math\n",
    "import time\n",
    "\n",
    "wbt = WhiteboxTools()"
   ]
  },
  {
   "cell_type": "code",
   "execution_count": null,
   "id": "3b78a91e",
   "metadata": {},
   "outputs": [],
   "source": []
  },
  {
   "cell_type": "code",
   "execution_count": 2,
   "id": "183497b6",
   "metadata": {},
   "outputs": [],
   "source": [
    "os.chdir(r'C:\\\\Users\\\\sasha\\\\abstract_surfaces\\\\')"
   ]
  },
  {
   "cell_type": "code",
   "execution_count": 3,
   "id": "4ae39979",
   "metadata": {},
   "outputs": [
    {
     "data": {
      "text/plain": [
       "['best',\n",
       " 'clear',\n",
       " 'current_hemicylinder.tif',\n",
       " 'current_hemisphere.tif',\n",
       " 'current_inclined.tif',\n",
       " 'current_paraboloid.tif',\n",
       " 'filtered',\n",
       " 'morpho',\n",
       " 'noisy',\n",
       " 'res.png',\n",
       " 'results.txt']"
      ]
     },
     "execution_count": 3,
     "metadata": {},
     "output_type": "execute_result"
    }
   ],
   "source": [
    "entries = os.listdir('./surfaces/')\n",
    "entries"
   ]
  },
  {
   "cell_type": "code",
   "execution_count": 5,
   "id": "89b48175",
   "metadata": {},
   "outputs": [
    {
     "name": "stdout",
     "output_type": "stream",
     "text": [
      "Clear dems: ['hemicylinder_clear.tif', 'hemisphere_clear.tif', 'inclined_clear.tif', 'paraboloid_clear.tif']\n",
      "\n",
      "Noisy dems: ['hemicylinder_n_05.tif', 'hemicylinder_n_1.tif', 'hemicylinder_n_2.tif', 'hemicylinder_un_05.tif', 'hemicylinder_un_1.tif', 'hemicylinder_un_2.tif', 'hemisphere_n_05.tif', 'hemisphere_n_1.tif', 'hemisphere_n_2.tif', 'hemisphere_un_05.tif', 'hemisphere_un_1.tif', 'hemisphere_un_2.tif', 'inclined_n_05.tif', 'inclined_n_1.tif', 'inclined_n_2.tif', 'inclined_un_05.tif', 'inclined_un_1.tif', 'inclined_un_2.tif', 'paraboloid_n_05.tif', 'paraboloid_n_1.tif', 'paraboloid_n_2.tif', 'paraboloid_un_05.tif', 'paraboloid_un_1.tif', 'paraboloid_un_2.tif']\n"
     ]
    }
   ],
   "source": [
    "clear_dems = os.listdir('./surfaces/' + entries[1])\n",
    "noisy_dems = os.listdir('./surfaces/' + entries[-3])\n",
    "\n",
    "print(f'Clear dems: {clear_dems}', f'Noisy dems: {noisy_dems}', sep='\\n\\n')"
   ]
  },
  {
   "cell_type": "code",
   "execution_count": 6,
   "id": "887d00c7",
   "metadata": {},
   "outputs": [
    {
     "name": "stdout",
     "output_type": "stream",
     "text": [
      "Appended hemicylinder_clear.tif\n",
      "Appended hemisphere_clear.tif\n",
      "Appended inclined_clear.tif\n",
      "Appended paraboloid_clear.tif\n"
     ]
    }
   ],
   "source": [
    "arr_clear_dems = []\n",
    "for clear_dem in clear_dems:\n",
    "    \n",
    "    tmp_path = r'C:\\Users\\sasha\\abstract_surfaces\\surfaces\\clear\\\\' + clear_dem\n",
    "    #print(tmp_path)\n",
    "    \n",
    "    with rasterio.open(tmp_path, 'r') as ds:\n",
    "        arr_in = ds.read()\n",
    "    #arr_clear_dems[clear_dem] = arr_in[0]\n",
    "    arr_clear_dems.append(arr_in[0])\n",
    "    #plt.imshow(arr_noisy_dems[-1], cmap='binary')\n",
    "    #plt.show()\n",
    "    print(f'Appended {clear_dem}')"
   ]
  },
  {
   "cell_type": "code",
   "execution_count": 7,
   "id": "643ee62f",
   "metadata": {},
   "outputs": [
    {
     "name": "stdout",
     "output_type": "stream",
     "text": [
      "Appended hemicylinder_n_05.tif\n",
      "Appended hemicylinder_n_1.tif\n",
      "Appended hemicylinder_n_2.tif\n",
      "Appended hemicylinder_un_05.tif\n",
      "Appended hemicylinder_un_1.tif\n",
      "Appended hemicylinder_un_2.tif\n",
      "Appended hemisphere_n_05.tif\n",
      "Appended hemisphere_n_1.tif\n",
      "Appended hemisphere_n_2.tif\n",
      "Appended hemisphere_un_05.tif\n",
      "Appended hemisphere_un_1.tif\n",
      "Appended hemisphere_un_2.tif\n",
      "Appended inclined_n_05.tif\n",
      "Appended inclined_n_1.tif\n",
      "Appended inclined_n_2.tif\n",
      "Appended inclined_un_05.tif\n",
      "Appended inclined_un_1.tif\n",
      "Appended inclined_un_2.tif\n",
      "Appended paraboloid_n_05.tif\n",
      "Appended paraboloid_n_1.tif\n",
      "Appended paraboloid_n_2.tif\n",
      "Appended paraboloid_un_05.tif\n",
      "Appended paraboloid_un_1.tif\n",
      "Appended paraboloid_un_2.tif\n"
     ]
    }
   ],
   "source": [
    "arr_noisy_dems = []\n",
    "for noisy_dem in noisy_dems:\n",
    "    \n",
    "    tmp_path = r'C:\\Users\\sasha\\abstract_surfaces\\surfaces\\noisy\\\\' + noisy_dem\n",
    "    #print(tmp_path)\n",
    "    \n",
    "    with rasterio.open(tmp_path, 'r') as ds:\n",
    "        arr_in = ds.read()\n",
    "    #arr_noisy_dems[noisy_dem] = arr_in[0]\n",
    "    arr_noisy_dems.append(arr_in[0])\n",
    "    #plt.imshow(arr_noisy_dems[-1], cmap='binary')\n",
    "    #plt.show()\n",
    "    print(f'Appended {noisy_dem}')"
   ]
  },
  {
   "cell_type": "code",
   "execution_count": 8,
   "id": "79051092",
   "metadata": {},
   "outputs": [
    {
     "name": "stdout",
     "output_type": "stream",
     "text": [
      "C:\\Users\\sasha\\abstract_surfaces\\surfaces\\best\\best_inclined_un_05.tif\n"
     ]
    },
    {
     "data": {
      "text/plain": [
       "'C:\\\\Users\\\\sasha\\\\abstract_surfaces\\\\surfaces\\\\best\\\\best_inclined_un_05.tif'"
      ]
     },
     "execution_count": 8,
     "metadata": {},
     "output_type": "execute_result"
    }
   ],
   "source": [
    "best_path = r'C:\\Users\\sasha\\abstract_surfaces\\surfaces\\best\\best_' + noisy_dems[15]\n",
    "\n",
    "print(best_path)\n",
    "\n",
    "cur = r'C:\\Users\\sasha\\abstract_surfaces\\surfaces\\current_' + noisy_dems[15].split('_')[0] + '.tif'\n",
    "\n",
    "shutil.copy2(cur, best_path)\n",
    "# shutil.move(new, best_path)"
   ]
  },
  {
   "cell_type": "code",
   "execution_count": 21,
   "id": "3dd743be",
   "metadata": {},
   "outputs": [
    {
     "name": "stdout",
     "output_type": "stream",
     "text": [
      "\n",
      "\n",
      "Elapsed time: 13.947684510548909\n"
     ]
    },
    {
     "data": {
      "text/plain": [
       "{'hemicylinder_n_05.tif': ['EdgePreservingFilter', 11, 11, 0.6],\n",
       " 'hemicylinder_n_1.tif': ['EdgePreservingFilter', 5, 5, 1.8],\n",
       " 'hemicylinder_n_2.tif': ['EdgePreservingFilter', 15, 15, 2.0],\n",
       " 'hemicylinder_un_05.tif': ['EdgePreservingFilter', 5, 5, 0.1],\n",
       " 'hemicylinder_un_1.tif': ['EdgePreservingFilter', 9, 9, 0.2],\n",
       " 'hemicylinder_un_2.tif': ['EdgePreservingFilter', 3, 3, 0.6],\n",
       " 'hemisphere_n_05.tif': ['EdgePreservingFilter', 7, 7, 1.1],\n",
       " 'hemisphere_n_1.tif': ['EdgePreservingFilter', 11, 11, 1.7],\n",
       " 'hemisphere_n_2.tif': ['AdaptiveFilter', 3, 3, 2.0],\n",
       " 'hemisphere_un_05.tif': ['EdgePreservingFilter', 3, 3, 0.1],\n",
       " 'hemisphere_un_1.tif': ['EdgePreservingFilter', 9, 9, 0.2],\n",
       " 'hemisphere_un_2.tif': ['EdgePreservingFilter', 7, 7, 0.3],\n",
       " 'inclined_n_05.tif': ['AdaptiveFilter', 3, 3, 2.0],\n",
       " 'inclined_n_1.tif': ['AdaptiveFilter', 7, 7, 1.5],\n",
       " 'inclined_n_2.tif': ['AdaptiveFilter', 13, 13, 1.9],\n",
       " 'inclined_un_05.tif': ['ConservativeSmoothingFilter', 3, 3],\n",
       " 'inclined_un_1.tif': ['EdgePreservingFilter', 5, 5, 1.3],\n",
       " 'inclined_un_2.tif': ['ConservativeSmoothingFilter', 3, 3],\n",
       " 'paraboloid_n_05.tif': ['AdaptiveFilter', 5, 5, 0.4],\n",
       " 'paraboloid_n_1.tif': ['MeanFilter', 7, 7],\n",
       " 'paraboloid_n_2.tif': ['MeanFilter', 7, 7],\n",
       " 'paraboloid_un_05.tif': ['AdaptiveFilter', 15, 15, 1.5],\n",
       " 'paraboloid_un_1.tif': ['AdaptiveFilter', 15, 15, 1.6],\n",
       " 'paraboloid_un_2.tif': ['AdaptiveFilter', 11, 11, 1.5]}"
      ]
     },
     "execution_count": 21,
     "metadata": {},
     "output_type": "execute_result"
    }
   ],
   "source": [
    "arr_filtered_dems = []\n",
    "best_filter = {}\n",
    "\n",
    "start_time = time.time()\n",
    "\n",
    "with open(r'C:\\Users\\sasha\\abstract_surfaces\\surfaces\\results.txt', 'w+') as file:\n",
    "    \n",
    "    file.write('\\n')\n",
    "    \n",
    "    for noisy_dem in noisy_dems:\n",
    "        \n",
    "        file.write('---\\n' + noisy_dem + '\\n')\n",
    "        \n",
    "        clear_path = r'C:\\Users\\sasha\\abstract_surfaces\\surfaces\\clear\\\\' + noisy_dem.split('_')[0] + '_clear.tif'\n",
    "        tmp_path = r'C:\\Users\\sasha\\abstract_surfaces\\surfaces\\noisy\\\\' + noisy_dem\n",
    "        output_path = r'C:\\Users\\sasha\\abstract_surfaces\\surfaces\\current_' + noisy_dem.split('_')[0] + '.tif'\n",
    "        best_path = r'C:\\Users\\sasha\\abstract_surfaces\\surfaces\\best\\best_' + noisy_dem\n",
    "        #good_path = r'C:\\Users\\sasha\\abstract_surfaces\\surfaces\\best_' + noisy_dem.split('_')[0] + '.tif'\n",
    "\n",
    "        with rasterio.open(clear_path, 'r') as ds:\n",
    "            data_clear = ds.read()\n",
    "            data_clear = data_clear[0] \n",
    "\n",
    "        with rasterio.open(tmp_path, 'r') as ds:\n",
    "            data_noisy = ds.read()\n",
    "            data_noisy = data_noisy[0]    \n",
    "\n",
    "        min_mean = 99999\n",
    "\n",
    "        wbt.verbose = False\n",
    "\n",
    "        # - - -\n",
    "        #MeanFilter\n",
    "        for filt_xy in range(3, 16, 2):\n",
    "            wbt.mean_filter(\n",
    "                i = tmp_path, \n",
    "                output = output_path, \n",
    "                filterx=filt_xy, \n",
    "                filtery=filt_xy\n",
    "            )\n",
    "\n",
    "            with rasterio.open(output_path, 'r') as ds:\n",
    "                data_filt = ds.read()\n",
    "                data_filt = data_filt[0]\n",
    "\n",
    "            if abs(np.mean(np.subtract(data_clear, data_filt))) < min_mean:\n",
    "                best_filter.update({noisy_dem : ['MeanFilter', filt_xy, filt_xy]})\n",
    "                min_mean = abs(np.mean(np.subtract(data_clear, data_filt)))\n",
    "                # shutil.copy2(src=output_path, dst=best_path)\n",
    "\n",
    "            file.write('\\t' + f'MeanFilter: {filt_xy} * {filt_xy}. ' + \\\n",
    "                       f'mean = {abs(np.mean(np.subtract(data_clear, data_filt)))}' + '\\n')\n",
    "\n",
    "        # - - -\n",
    "        #MedianFilter\n",
    "            wbt.median_filter(\n",
    "                i = tmp_path, \n",
    "                output = output_path, \n",
    "                filterx=filt_xy, \n",
    "                filtery=filt_xy,\n",
    "                sig_digits=2\n",
    "            )\n",
    "\n",
    "            with rasterio.open(output_path, 'r') as ds:\n",
    "                data_filt = ds.read()\n",
    "                data_filt = data_filt[0]\n",
    "\n",
    "            if abs(np.mean(np.subtract(data_clear, data_filt))) < min_mean:\n",
    "                best_filter.update({noisy_dem : ['MedianFilter', filt_xy, filt_xy]})\n",
    "                min_mean = abs(np.mean(np.subtract(data_clear, data_filt)))\n",
    "                # shutil.copy(src=output_path, dst=best_path)\n",
    "\n",
    "            file.write('\\t' + f'MedianFilter: {filt_xy} * {filt_xy}. ' + \\\n",
    "                       f'mean = {abs(np.mean(np.subtract(data_clear, data_filt)))}' + '\\n')\n",
    "            \n",
    "        #ConservativeSmoothingFilter\n",
    "\n",
    "            wbt.conservative_smoothing_filter(\n",
    "                i = tmp_path,\n",
    "                output = output_path,\n",
    "                filterx=filt_xy, \n",
    "                filtery=filt_xy\n",
    "            )\n",
    "\n",
    "            with rasterio.open(output_path, 'r') as ds:\n",
    "                data_filt = ds.read()\n",
    "                data_filt = data_filt[0]\n",
    "\n",
    "            if abs(np.mean(np.subtract(data_clear, data_filt))) < min_mean:\n",
    "                best_filter.update({noisy_dem : ['ConservativeSmoothingFilter', filt_xy, filt_xy]})\n",
    "                min_mean = abs(np.mean(np.subtract(data_clear, data_filt)))\n",
    "                # shutil.copy(src=output_path, dst=best_path)\n",
    "\n",
    "            file.write('\\t' + f'ConservativeSmoothingFilter: {filt_xy} * {filt_xy}. ' + \\\n",
    "                       f'mean = {abs(np.mean(np.subtract(data_clear, data_filt)))}' + '\\n')\n",
    "\n",
    "        # - - -\n",
    "        #AdaptiveFilter & EdgePresevingFilter\n",
    "            for threshold in np.arange(0.1, 2.1, 0.1):\n",
    "                threshold = round(threshold, 2)\n",
    "                wbt.adaptive_filter(\n",
    "                    i = tmp_path, \n",
    "                    output = output_path, \n",
    "                    filterx=filt_xy, \n",
    "                    filtery=filt_xy, \n",
    "                    threshold=threshold\n",
    "                )\n",
    "\n",
    "                with rasterio.open(output_path, 'r') as ds:\n",
    "                    data_filt = ds.read()\n",
    "                    data_filt = data_filt[0]\n",
    "\n",
    "                if abs(np.mean(np.subtract(data_clear, data_filt))) < min_mean:\n",
    "                    best_filter.update({noisy_dem : ['AdaptiveFilter', filt_xy, filt_xy, threshold]})\n",
    "                    min_mean = abs(np.mean(np.subtract(data_clear, data_filt)))\n",
    "                    # shutil.copy(src=output_path, dst=best_path)\n",
    "\n",
    "                file.write('\\t' + f'AdaptiveFilter: {filt_xy} * {filt_xy}, {threshold}. ' + \\\n",
    "                       f'mean = {abs(np.mean(np.subtract(data_clear, data_filt)))}' + '\\n')\n",
    "                                \n",
    "                wbt.edge_preserving_mean_filter(\n",
    "                    i = tmp_path, \n",
    "                    output = output_path, \n",
    "                    filter=filt_xy,\n",
    "                    threshold=threshold\n",
    "                )\n",
    "\n",
    "                with rasterio.open(output_path, 'r') as ds:\n",
    "                    data_filt = ds.read()\n",
    "                    data_filt = data_filt[0]\n",
    "\n",
    "                if abs(np.mean(np.subtract(data_clear, data_filt))) < min_mean:\n",
    "                    best_filter.update({noisy_dem : ['EdgePreservingFilter', filt_xy, filt_xy, threshold]})\n",
    "                    min_mean = abs(np.mean(np.subtract(data_clear, data_filt)))\n",
    "                    # shutil.copy2(src=output_path, dst=best_path)\n",
    "\n",
    "                file.write('\\t' + f'EdgePresevingFilter: {filt_xy} * {filt_xy}, {threshold}. ' + \\\n",
    "                       f'mean = {abs(np.mean(np.subtract(data_clear, data_filt)))}' + '\\n')\n",
    "\n",
    "        # - - -\n",
    "        #OlympicFilter\n",
    "            wbt.olympic_filter(\n",
    "                i=tmp_path, \n",
    "                output=output_path, \n",
    "                filterx=filt_xy, \n",
    "                filtery=filt_xy\n",
    "            )\n",
    "\n",
    "            with rasterio.open(output_path, 'r') as ds:\n",
    "                data_filt = ds.read()\n",
    "                data_filt = data_filt[0]\n",
    "\n",
    "            if abs(np.mean(np.subtract(data_clear, data_filt))) < min_mean:\n",
    "                best_filter.update({noisy_dem : ['OlympicFilter', filt_xy, filt_xy]})\n",
    "                min_mean = abs(np.mean(np.subtract(data_clear, data_filt)))\n",
    "                # shutil.copy(src=output_path, dst=best_path)\n",
    "\n",
    "            file.write('\\t' + f'OlympicFilter: {filt_xy} * {filt_xy}. ' + \\\n",
    "                       f'mean = {abs(np.mean(np.subtract(data_clear, data_filt)))}' + '\\n')\n",
    "            \n",
    "        # - - -\n",
    "        #MajorityFilter\n",
    "            wbt.majority_filter(\n",
    "                i=tmp_path, \n",
    "                output=output_path, \n",
    "                filterx=filt_xy, \n",
    "                filtery=filt_xy\n",
    "            )\n",
    "\n",
    "            with rasterio.open(output_path, 'r') as ds:\n",
    "                data_filt = ds.read()\n",
    "                data_filt = data_filt[0]\n",
    "\n",
    "            if abs(np.mean(np.subtract(data_clear, data_filt))) < min_mean:\n",
    "                best_filter.update({noisy_dem : ['MajorityFilter', filt_xy, filt_xy]})\n",
    "                min_mean = abs(np.mean(np.subtract(data_clear, data_filt)))\n",
    "                # shutil.copy(src=output_path, dst=best_path)\n",
    "\n",
    "            file.write('\\t' + f'MajorityFilter: {filt_xy} * {filt_xy}. ' + \\\n",
    "                       f'mean = {abs(np.mean(np.subtract(data_clear, data_filt)))}' + '\\n')\n",
    "            \n",
    "        # - - -\n",
    "        #KNearestFilter\n",
    "            for k in [5]:\n",
    "                wbt.k_nearest_mean_filter(\n",
    "                    i=tmp_path, \n",
    "                    output=output_path, \n",
    "                    filterx=filt_xy, \n",
    "                    filtery=filt_xy,\n",
    "                    k=k\n",
    "                )\n",
    "\n",
    "                with rasterio.open(output_path, 'r') as ds:\n",
    "                    data_filt = ds.read()\n",
    "                    data_filt = data_filt[0]\n",
    "\n",
    "                if abs(np.mean(np.subtract(data_clear, data_filt))) < min_mean:\n",
    "                    best_filter.update({noisy_dem : ['KNearestFilter', filt_xy, filt_xy, k]})\n",
    "                    min_mean = abs(np.mean(np.subtract(data_clear, data_filt)))\n",
    "                    # shutil.copy(src=output_path, dst=best_path)\n",
    "\n",
    "                file.write('\\t' + f'KNearestFilter: {filt_xy} * {filt_xy}, {k}. ' + \\\n",
    "                           f'mean = {abs(np.mean(np.subtract(data_clear, data_filt)))}' + '\\n')\n",
    "        # - - -\n",
    "        #LeeSigmaFilter\n",
    "            with rasterio.open(tmp_path, 'r') as ds:\n",
    "                current_arr = ds.read()\n",
    "                current_arr = current_arr[0]\n",
    "            wbt.lee_sigma_filter(\n",
    "                i=tmp_path,\n",
    "                output=output_path,\n",
    "                filterx=filt_xy,\n",
    "                filtery=filt_xy,\n",
    "                sigma=np.std(a=current_arr),\n",
    "                m=filt_xy//2\n",
    "            )\n",
    "            \n",
    "        \n",
    "end_time = time.time()\n",
    "print(f'\\n\\nElapsed time: {(end_time - start_time)/60}')\n",
    "        \n",
    "best_filter"
   ]
  },
  {
   "cell_type": "code",
   "execution_count": 47,
   "id": "b9f70959",
   "metadata": {},
   "outputs": [
    {
     "name": "stdout",
     "output_type": "stream",
     "text": [
      "\n",
      "\n",
      "Elapsed time: 1013.9932539463043 seconds\n"
     ]
    },
    {
     "data": {
      "text/plain": [
       "{'hemicylinder_n_05.tif': ['EdgePresevingFilter', 5, 5, 1.6],\n",
       " 'hemicylinder_n_1.tif': ['EdgePresevingFilter', 11, 11, 1.8],\n",
       " 'hemicylinder_n_2.tif': ['OlympicFilter', 3, 3],\n",
       " 'hemicylinder_un_05.tif': ['EdgePresevingFilter', 3, 3, 0.3],\n",
       " 'hemicylinder_un_1.tif': ['EdgePresevingFilter', 3, 3, 0.5],\n",
       " 'hemicylinder_un_2.tif': ['EdgePresevingFilter', 3, 3, 1.1],\n",
       " 'hemisphere_n_05.tif': ['EdgePresevingFilter', 3, 3, 0.5],\n",
       " 'hemisphere_n_1.tif': ['MajorityFilter', 3, 3],\n",
       " 'hemisphere_n_2.tif': ['MajorityFilter', 3, 3],\n",
       " 'hemisphere_un_05.tif': ['EdgePresevingFilter', 5, 5, 0.1],\n",
       " 'hemisphere_un_1.tif': ['EdgePresevingFilter', 3, 3, 0.5],\n",
       " 'hemisphere_un_2.tif': ['EdgePresevingFilter', 3, 3, 0.8],\n",
       " 'inclined_n_05.tif': ['OlympicFilter', 15, 15],\n",
       " 'inclined_n_1.tif': ['AdaptiveFilter', 5, 5, 1.8],\n",
       " 'inclined_n_2.tif': ['AdaptiveFilter', 7, 7, 1.9],\n",
       " 'inclined_un_05.tif': ['KNearestFilter', 5, 5, 5],\n",
       " 'inclined_un_1.tif': ['KNearestFilter', 5, 5, 5],\n",
       " 'inclined_un_2.tif': ['OlympicFilter', 7, 7],\n",
       " 'paraboloid_n_05.tif': ['AdaptiveFilter', 3, 3, 0.3],\n",
       " 'paraboloid_n_1.tif': ['AdaptiveFilter', 15, 15, 0.9],\n",
       " 'paraboloid_n_2.tif': ['AdaptiveFilter', 5, 5, 0.4],\n",
       " 'paraboloid_un_05.tif': ['MedianFilter', 11, 11],\n",
       " 'paraboloid_un_1.tif': ['AdaptiveFilter', 7, 7, 0.8],\n",
       " 'paraboloid_un_2.tif': ['AdaptiveFilter', 7, 7, 0.7]}"
      ]
     },
     "execution_count": 47,
     "metadata": {},
     "output_type": "execute_result"
    }
   ],
   "source": [
    "print(f'\\n\\nElapsed time: {(end_time - start_time)} seconds')\n",
    "best_filter"
   ]
  },
  {
   "cell_type": "code",
   "execution_count": 40,
   "id": "7804f5a0",
   "metadata": {},
   "outputs": [
    {
     "name": "stdout",
     "output_type": "stream",
     "text": [
      "3: 5\n",
      "5: 5 6 7 8 9 10 11 12 13\n",
      "7: 5 6 7 8 9 10 11 12 13 14 15 16 17 18 19 20 21 22 23 24 25\n",
      "9: 5 6 7 8 9 10 11 12 13 14 15 16 17 18 19 20 21 22 23 24 25 26 27 28 29 30 31 32 33 34 35 36 37 38 39 40 41\n",
      "11: 5 6 7 8 9 10 11 12 13 14 15 16 17 18 19 20 21 22 23 24 25 26 27 28 29 30 31 32 33 34 35 36 37 38 39 40 41 42 43 44 45 46 47 48 49 50 51 52 53 54 55 56 57 58 59 60 61\n"
     ]
    }
   ],
   "source": [
    "for filt_xy in range(3, 12, 2):\n",
    "    print(f'{filt_xy}:', *range(5, filt_xy**2 // 2 + 2))"
   ]
  },
  {
   "cell_type": "code",
   "execution_count": null,
   "id": "d5e04aca",
   "metadata": {},
   "outputs": [],
   "source": []
  },
  {
   "cell_type": "code",
   "execution_count": 45,
   "id": "1643472b",
   "metadata": {},
   "outputs": [
    {
     "data": {
      "text/plain": [
       "{'hemicylinder_n_05.tif': ['OlympicFilter', 5, 5],\n",
       " 'hemicylinder_n_1.tif': ['OlympicFilter', 5, 5],\n",
       " 'hemicylinder_n_2.tif': ['MedianFilter', 5, 5],\n",
       " 'hemicylinder_un_05.tif': ['OlympicFilter', 5, 5],\n",
       " 'hemicylinder_un_1.tif': ['OlympicFilter', 5, 5],\n",
       " 'hemicylinder_un_2.tif': ['MedianFilter', 5, 5],\n",
       " 'hemisphere_n_05.tif': ['OlympicFilter', 5, 5],\n",
       " 'hemisphere_n_1.tif': ['OlympicFilter', 5, 5],\n",
       " 'hemisphere_n_2.tif': ['OlympicFilter', 5, 5],\n",
       " 'hemisphere_un_05.tif': ['OlympicFilter', 5, 5],\n",
       " 'hemisphere_un_1.tif': ['OlympicFilter', 5, 5],\n",
       " 'hemisphere_un_2.tif': ['MedianFilter', 7, 7],\n",
       " 'inclined_n_05.tif': ['AdaptiveFilter', 5, 5, 2.0],\n",
       " 'inclined_n_1.tif': ['AdaptiveFilter', 5, 5, 1.5],\n",
       " 'inclined_n_2.tif': ['AdaptiveFilter', 5, 5, 1.4],\n",
       " 'inclined_un_05.tif': ['AdaptiveFilter', 5, 5, 1.7],\n",
       " 'inclined_un_1.tif': ['AdaptiveFilter', 5, 5, 2.0],\n",
       " 'inclined_un_2.tif': ['AdaptiveFilter', 5, 5, 1.6],\n",
       " 'paraboloid_n_05.tif': ['AdaptiveFilter', 5, 5, 1.9],\n",
       " 'paraboloid_n_1.tif': ['AdaptiveFilter', 5, 5, 1.4],\n",
       " 'paraboloid_n_2.tif': ['AdaptiveFilter', 5, 5, 1.4],\n",
       " 'paraboloid_un_05.tif': ['AdaptiveFilter', 5, 5, 0.5],\n",
       " 'paraboloid_un_1.tif': ['AdaptiveFilter', 5, 5, 1.1],\n",
       " 'paraboloid_un_2.tif': ['AdaptiveFilter', 5, 5, 1.5]}"
      ]
     },
     "execution_count": 45,
     "metadata": {},
     "output_type": "execute_result"
    }
   ],
   "source": [
    "best_filter"
   ]
  },
  {
   "cell_type": "code",
   "execution_count": 28,
   "id": "ff6893b7-d69a-4c95-8528-d2111f309ef2",
   "metadata": {},
   "outputs": [
    {
     "data": {
      "text/plain": [
       "0"
      ]
     },
     "execution_count": 28,
     "metadata": {},
     "output_type": "execute_result"
    }
   ],
   "source": [
    "wbt.verbose = False\n",
    "\n",
    "wbt.adaptive_filter(\n",
    "    i = r\"C:\\Users\\sasha\\abstract_surfaces\\surfaces\\noisy\\paraboloid_un_1.tif\", \n",
    "    output = r\"C:\\Users\\sasha\\abstract_surfaces\\surfaces\\filtered\\paraboloid_un_1_filt.tif\", \n",
    "    filterx=7, \n",
    "    filtery=7, \n",
    "    threshold=0.5\n",
    ")\n",
    "\n",
    "wbt.adaptive_filter(\n",
    "    i = r\"C:\\Users\\sasha\\abstract_surfaces\\surfaces\\noisy\\paraboloid_un_1.tif\", \n",
    "    output = r\"C:\\Users\\sasha\\abstract_surfaces\\surfaces\\filtered\\paraboloid_un_1_filt.tif\", \n",
    "    filterx=7, \n",
    "    filtery=7, \n",
    "    threshold=0.5\n",
    ")"
   ]
  },
  {
   "cell_type": "code",
   "execution_count": 14,
   "id": "27ef6b08-2dad-4514-b3f0-f68e27ef16da",
   "metadata": {},
   "outputs": [
    {
     "data": {
      "text/plain": [
       "0"
      ]
     },
     "execution_count": 14,
     "metadata": {},
     "output_type": "execute_result"
    }
   ],
   "source": [
    "wbt.verbose = False\n",
    "\n",
    "wbt.d8_pointer(\n",
    "    dem = r\"C:\\Users\\sasha\\abstract_surfaces\\surfaces\\clear\\paraboloid_clear.tif\",\n",
    "    output = r\"C:\\Users\\sasha\\abstract_surfaces\\surfaces\\morpho\\paraboloid_clear_d8.tif\",\n",
    "    # zfactor = 1.0\n",
    "    # units = 'degrees'\n",
    ")\n",
    "\n",
    "wbt.d8_pointer(\n",
    "    dem = r\"C:\\Users\\sasha\\abstract_surfaces\\surfaces\\noisy\\paraboloid_un_1.tif\",\n",
    "    output = r\"C:\\Users\\sasha\\abstract_surfaces\\surfaces\\morpho\\paraboloid_un_1_d8.tif\",\n",
    "    # zfactor = 1.0\n",
    "    # units = 'degrees'\n",
    ")\n",
    "\n",
    "wbt.d8_pointer(\n",
    "    dem = r\"C:\\Users\\sasha\\abstract_surfaces\\surfaces\\filtered\\paraboloid_un_1_filt.tif\",\n",
    "    output = r\"C:\\Users\\sasha\\abstract_surfaces\\surfaces\\morpho\\paraboloid_un_1_filt_d8.tif\",\n",
    "    # zfactor = 1.0\n",
    "    # units = 'degrees'\n",
    ")\n",
    "\n",
    "wbt.d8_flow_accumulation(\n",
    "    i = r\"C:\\Users\\sasha\\abstract_surfaces\\surfaces\\filtered\\paraboloid_un_1_filt.tif\", \n",
    "    output = r\"C:\\Users\\sasha\\abstract_surfaces\\surfaces\\morpho\\paraboloid_un_1_filt_d8_acc.tif\", \n",
    "    out_type=\"cells\"\n",
    ")\n",
    "\n",
    "wbt.d8_flow_accumulation(\n",
    "    i = r\"C:\\Users\\sasha\\abstract_surfaces\\surfaces\\clear\\paraboloid_clear.tif\", \n",
    "    output = r\"C:\\Users\\sasha\\abstract_surfaces\\surfaces\\morpho\\paraboloid_clear_d8_acc.tif\", \n",
    "    out_type=\"cells\"\n",
    ")"
   ]
  },
  {
   "cell_type": "code",
   "execution_count": 29,
   "id": "bdbe0f42",
   "metadata": {},
   "outputs": [
    {
     "data": {
      "text/plain": [
       "<matplotlib.image.AxesImage at 0x1b8ccc8c250>"
      ]
     },
     "execution_count": 29,
     "metadata": {},
     "output_type": "execute_result"
    },
    {
     "data": {
      "image/png": "[encoded data removed]",
      "text/plain": [
       "<Figure size 640x480 with 1 Axes>"
      ]
     },
     "metadata": {},
     "output_type": "display_data"
    }
   ],
   "source": [
    "with rasterio.open(r\"C:\\Users\\sasha\\abstract_surfaces\\surfaces\\clear\\paraboloid_clear.tif\", 'r') as ds:\n",
    "    data_clear = ds.read()\n",
    "    data_clear = data_clear[0]\n",
    "    \n",
    "with rasterio.open(r\"C:\\Users\\sasha\\abstract_surfaces\\surfaces\\noisy\\paraboloid_un_1.tif\", 'r') as ds:\n",
    "    data_noisy = ds.read()\n",
    "    data_noisy = data_noisy[0]\n",
    "\n",
    "with rasterio.open(r'C:\\Users\\sasha\\abstract_surfaces\\surfaces\\filtered\\paraboloid_un_1_filt.tif', 'r') as ds:\n",
    "    data_filt = ds.read()\n",
    "    data_filt = data_filt[0]\n",
    "\n",
    "# with rasterio.open(r\"C:\\Users\\sasha\\abstract_surfaces\\surfaces\\morpho\\paraboloid_un_1_slope.tif\", 'r') as ds:\n",
    "#     data_morpho_c = ds.read()\n",
    "#     data_morpho_c = data_morpho_c[0]\n",
    "\n",
    "# with rasterio.open(r\"C:\\Users\\sasha\\abstract_surfaces\\surfaces\\morpho\\paraboloid_un_1_slope.tif\", 'r') as ds:\n",
    "#     data_morpho_c = ds.read()\n",
    "#     data_morpho_c = data_morpho_c[0]\n",
    "# ---\n",
    "# ---\n",
    "# ---\n",
    "with rasterio.open(r\"C:\\Users\\sasha\\abstract_surfaces\\surfaces\\morpho\\paraboloid_clear_d8.tif\", 'r') as ds:\n",
    "    data_morpho_c = ds.read()\n",
    "    data_morpho_c = data_morpho_c[0]\n",
    "\n",
    "with rasterio.open(r\"C:\\Users\\sasha\\abstract_surfaces\\surfaces\\morpho\\paraboloid_un_1_d8.tif\", 'r') as ds:\n",
    "    data_morpho_n = ds.read()\n",
    "    data_morpho_n = data_morpho_n[0]\n",
    "\n",
    "with rasterio.open(r\"C:\\Users\\sasha\\abstract_surfaces\\surfaces\\morpho\\paraboloid_un_1_filt_d8_acc.tif\", 'r') as ds:\n",
    "    data_morpho_f = ds.read()\n",
    "    data_morpho_f = data_morpho_f[0]\n",
    "\n",
    "with rasterio.open(r\"C:\\Users\\sasha\\abstract_surfaces\\surfaces\\morpho\\paraboloid_clear_d8_acc.tif\", 'r') as ds:\n",
    "    data_morpho_с = ds.read()\n",
    "    data_morpho_с = data_morpho_с[0]\n",
    "\n",
    "# paraboloid_n_2.tif\n",
    "\n",
    "plt.imshow(data_morpho_f)"
   ]
  },
  {
   "cell_type": "code",
   "execution_count": 32,
   "id": "32cff035",
   "metadata": {},
   "outputs": [
    {
     "data": {
      "image/png": "[encoded data removed]",
      "text/plain": [
       "<Figure size 1600x1400 with 6 Axes>"
      ]
     },
     "metadata": {},
     "output_type": "display_data"
    }
   ],
   "source": [
    "#Vis\n",
    "fig = plt.figure(figsize=(16, 14))\n",
    "\n",
    "ax1 = fig.add_subplot(2, 4, 1)\n",
    "ax1.set_title('Исходная поверхность\\n(параболоид)')\n",
    "plt.imshow(data_clear, cmap='binary')\n",
    "plt.colorbar(fraction=0.045, orientation='horizontal')\n",
    "\n",
    "ax2 = fig.add_subplot(2, 4, 2)\n",
    "ax2.set_title('Зашумлённая поверхность\\n(равномерное распределение,\\nмасштабный коэффициент=1)')\n",
    "plt.imshow(data_noisy, cmap='binary')\n",
    "plt.colorbar(fraction=0.045, orientation='horizontal')\n",
    "\n",
    "ax3 = fig.add_subplot(2, 4, 3)\n",
    "ax3.set_title('Отфильтрованная поверхность\\n(адаптивный фильтр:\\nокно размером 7x7, threshold=0.1)')\n",
    "plt.imshow(data_filt, cmap='binary')\n",
    "plt.colorbar(fraction=0.045, orientation='horizontal')\n",
    "\n",
    "plt.savefig(r\"C:\\Users\\sasha\\abstract_surfaces\\surfaces\\res.png\")"
   ]
  },
  {
   "cell_type": "code",
   "execution_count": null,
   "id": "28af864d-2be3-4890-90f8-1ee3f353c7cf",
   "metadata": {},
   "outputs": [],
   "source": []
  },
  {
   "cell_type": "code",
   "execution_count": null,
   "id": "77c14011-7ab1-4901-ab41-5d82a945b518",
   "metadata": {},
   "outputs": [],
   "source": []
  }
 ],
 "metadata": {
  "kernelspec": {
   "display_name": "-dem-filter",
   "language": "python",
   "name": "-dem-filter"
  },
  "language_info": {
   "codemirror_mode": {
    "name": "ipython",
    "version": 3
   },
   "file_extension": ".py",
   "mimetype": "text/x-python",
   "name": "python",
   "nbconvert_exporter": "python",
   "pygments_lexer": "ipython3",
   "version": "3.11.5"
  }
 },
 "nbformat": 4,
 "nbformat_minor": 5
}
