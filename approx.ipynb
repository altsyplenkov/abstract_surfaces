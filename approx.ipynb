{
 "cells": [
  {
   "cell_type": "code",
   "execution_count": 1,
   "id": "504266ef",
   "metadata": {},
   "outputs": [],
   "source": [
    "import numpy as np\n",
    "import matplotlib.pyplot as plt"
   ]
  },
  {
   "cell_type": "code",
   "execution_count": 2,
   "id": "9f332d2a",
   "metadata": {},
   "outputs": [],
   "source": [
    "# Указание массивов координат в явном виде\n",
    "x = np.zeros((5,5))\n",
    "y = np.zeros((5,5))\n",
    "z = np.random.rand(5,5)\n",
    "for i in range(5):\n",
    "    x[:,i] = i\n",
    "    y[i,] = 4-i"
   ]
  },
  {
   "cell_type": "code",
   "execution_count": 3,
   "id": "90411e69",
   "metadata": {},
   "outputs": [
    {
     "data": {
      "text/plain": [
       "array([[0.65519436, 0.02841632, 0.52042347, 0.1742379 , 0.78282402],\n",
       "       [0.18370391, 0.92716744, 0.47243553, 0.24170528, 0.92586106],\n",
       "       [0.30270501, 0.74984542, 0.74391663, 0.24867279, 0.5393767 ],\n",
       "       [0.63366972, 0.37991334, 0.45260223, 0.29578189, 0.8120873 ],\n",
       "       [0.55959916, 0.47520607, 0.15789054, 0.04288643, 0.9552099 ]])"
      ]
     },
     "execution_count": 3,
     "metadata": {},
     "output_type": "execute_result"
    }
   ],
   "source": [
    "z"
   ]
  },
  {
   "cell_type": "code",
   "execution_count": 4,
   "id": "5f5eb675",
   "metadata": {},
   "outputs": [
    {
     "data": {
      "text/plain": [
       "array([0.65519436, 0.02841632, 0.52042347, 0.1742379 , 0.78282402,\n",
       "       0.18370391, 0.92716744, 0.47243553, 0.24170528, 0.92586106,\n",
       "       0.30270501, 0.74984542, 0.74391663, 0.24867279, 0.5393767 ,\n",
       "       0.63366972, 0.37991334, 0.45260223, 0.29578189, 0.8120873 ,\n",
       "       0.55959916, 0.47520607, 0.15789054, 0.04288643, 0.9552099 ])"
      ]
     },
     "execution_count": 4,
     "metadata": {},
     "output_type": "execute_result"
    }
   ],
   "source": [
    "z1 = z.flatten(order='C')\n",
    "z1"
   ]
  },
  {
   "cell_type": "code",
   "execution_count": 5,
   "id": "875828af",
   "metadata": {},
   "outputs": [
    {
     "name": "stdout",
     "output_type": "stream",
     "text": [
      "[0. 0.] 0.6551943629929041\n",
      "[0. 1.] 0.028416323494930285\n",
      "[0. 2.] 0.5204234722650481\n",
      "[0. 3.] 0.1742378988072939\n",
      "[0. 4.] 0.7828240214971369\n",
      "[1. 0.] 0.18370391202789282\n",
      "[1. 1.] 0.9271674406447171\n",
      "[1. 2.] 0.4724355272551197\n",
      "[1. 3.] 0.24170528180809647\n",
      "[1. 4.] 0.9258610631186195\n",
      "[2. 0.] 0.30270501132152094\n",
      "[2. 1.] 0.7498454158222468\n",
      "[2. 2.] 0.7439166326670977\n",
      "[2. 3.] 0.24867278936155623\n",
      "[2. 4.] 0.5393766985553855\n",
      "[3. 0.] 0.6336697244292706\n",
      "[3. 1.] 0.3799133443335817\n",
      "[3. 2.] 0.4526022269062465\n",
      "[3. 3.] 0.29578189421680745\n",
      "[3. 4.] 0.812087297338853\n",
      "[4. 0.] 0.559599162417781\n",
      "[4. 1.] 0.4752060723512447\n",
      "[4. 2.] 0.1578905395895529\n",
      "[4. 3.] 0.04288643046170815\n",
      "[4. 4.] 0.9552099035987485\n"
     ]
    }
   ],
   "source": [
    "#matrix = np.stack((x, y), axis=-1)\n",
    "coords = np.zeros((25,2))\n",
    "for i in range(5):\n",
    "    for j in range(5):\n",
    "        coords[i*5+j] = np.array([i, j])\n",
    "        print(coords[i*5+j], z1[i*5+j])\n",
    "#print(matrix)"
   ]
  },
  {
   "cell_type": "code",
   "execution_count": 6,
   "id": "07cbc3db",
   "metadata": {},
   "outputs": [
    {
     "data": {
      "text/plain": [
       "[(0, 0), (0, 1), (0, 2), (1, 0), (1, 1), (2, 0)]"
      ]
     },
     "execution_count": 6,
     "metadata": {},
     "output_type": "execute_result"
    }
   ],
   "source": [
    "degrees = [(i, j) for i in range(3) for j in range(3) if i+j < 3]  # коэффициенты для полинома второй степени\n",
    "degrees # многочлен второй степени"
   ]
  },
  {
   "cell_type": "markdown",
   "id": "7074314d",
   "metadata": {},
   "source": [
    "$z = \\beta_0 * x^0 * y^0 + \\beta_1 * x^0 * y^1 + \\beta_2 * x^0 * y^2 + \\beta_3 * x^1 * y^0...$"
   ]
  },
  {
   "cell_type": "code",
   "execution_count": 7,
   "id": "92449857",
   "metadata": {},
   "outputs": [
    {
     "data": {
      "text/plain": [
       "array([[ 1.,  0.,  0.,  0.,  0.,  0.],\n",
       "       [ 1.,  1.,  1.,  0.,  0.,  0.],\n",
       "       [ 1.,  2.,  4.,  0.,  0.,  0.],\n",
       "       [ 1.,  3.,  9.,  0.,  0.,  0.],\n",
       "       [ 1.,  4., 16.,  0.,  0.,  0.],\n",
       "       [ 1.,  0.,  0.,  1.,  0.,  1.],\n",
       "       [ 1.,  1.,  1.,  1.,  1.,  1.],\n",
       "       [ 1.,  2.,  4.,  1.,  2.,  1.],\n",
       "       [ 1.,  3.,  9.,  1.,  3.,  1.],\n",
       "       [ 1.,  4., 16.,  1.,  4.,  1.],\n",
       "       [ 1.,  0.,  0.,  2.,  0.,  4.],\n",
       "       [ 1.,  1.,  1.,  2.,  2.,  4.],\n",
       "       [ 1.,  2.,  4.,  2.,  4.,  4.],\n",
       "       [ 1.,  3.,  9.,  2.,  6.,  4.],\n",
       "       [ 1.,  4., 16.,  2.,  8.,  4.],\n",
       "       [ 1.,  0.,  0.,  3.,  0.,  9.],\n",
       "       [ 1.,  1.,  1.,  3.,  3.,  9.],\n",
       "       [ 1.,  2.,  4.,  3.,  6.,  9.],\n",
       "       [ 1.,  3.,  9.,  3.,  9.,  9.],\n",
       "       [ 1.,  4., 16.,  3., 12.,  9.],\n",
       "       [ 1.,  0.,  0.,  4.,  0., 16.],\n",
       "       [ 1.,  1.,  1.,  4.,  4., 16.],\n",
       "       [ 1.,  2.,  4.,  4.,  8., 16.],\n",
       "       [ 1.,  3.,  9.,  4., 12., 16.],\n",
       "       [ 1.,  4., 16.,  4., 16., 16.]])"
      ]
     },
     "execution_count": 7,
     "metadata": {},
     "output_type": "execute_result"
    }
   ],
   "source": [
    "matrix = np.stack([np.prod(coords**d, axis=1) for d in degrees], axis=-1) # значения для степеней соответствующих коэффициентов\n",
    "matrix"
   ]
  },
  {
   "cell_type": "code",
   "execution_count": 9,
   "id": "f54db373",
   "metadata": {},
   "outputs": [
    {
     "name": "stderr",
     "output_type": "stream",
     "text": [
      "C:\\Users\\sasha\\AppData\\Local\\Temp\\ipykernel_39908\\2835907634.py:1: FutureWarning: `rcond` parameter will change to the default of machine precision times ``max(M, N)`` where M and N are the input matrix dimensions.\n",
      "To use the future default and silence this warning we advise to pass `rcond=None`, to keep using the old, explicitly pass `rcond=-1`.\n",
      "  coeff = np.linalg.lstsq(matrix, z1)[0]    # lstsq returns some additional info we ignore\n"
     ]
    },
    {
     "data": {
      "text/plain": [
       "array([ 0.47435054, -0.20554955,  0.06345847,  0.11215785, -0.00610507,\n",
       "       -0.02557406])"
      ]
     },
     "execution_count": 9,
     "metadata": {},
     "output_type": "execute_result"
    }
   ],
   "source": [
    "coeff = np.linalg.lstsq(matrix, z1)[0]    # lstsq returns some additional info we ignore\n",
    "coeff # коэффициенты при соответствующих членах полинома"
   ]
  },
  {
   "cell_type": "code",
   "execution_count": 10,
   "id": "09eb343e",
   "metadata": {},
   "outputs": [
    {
     "data": {
      "text/plain": [
       "array([[0.47435054, 0.33225945, 0.31708531, 0.42882809, 0.66748781],\n",
       "       [0.56093432, 0.41273818, 0.39145896, 0.49709668, 0.72965133],\n",
       "       [0.59636998, 0.44206877, 0.41468449, 0.51421714, 0.74066673],\n",
       "       [0.58065752, 0.42025124, 0.3867619 , 0.48018948, 0.700534  ],\n",
       "       [0.51379693, 0.34728558, 0.30769117, 0.39501369, 0.60925315]])"
      ]
     },
     "execution_count": 10,
     "metadata": {},
     "output_type": "execute_result"
    }
   ],
   "source": [
    "fit = np.dot(matrix, coeff)\n",
    "fit_2 = np.reshape(fit, (5,5))\n",
    "fit_2"
   ]
  },
  {
   "cell_type": "code",
   "execution_count": 11,
   "id": "ed26950f",
   "metadata": {},
   "outputs": [
    {
     "data": {
      "text/plain": [
       "array([[0.65519436, 0.02841632, 0.52042347, 0.1742379 , 0.78282402],\n",
       "       [0.18370391, 0.92716744, 0.47243553, 0.24170528, 0.92586106],\n",
       "       [0.30270501, 0.74984542, 0.74391663, 0.24867279, 0.5393767 ],\n",
       "       [0.63366972, 0.37991334, 0.45260223, 0.29578189, 0.8120873 ],\n",
       "       [0.55959916, 0.47520607, 0.15789054, 0.04288643, 0.9552099 ]])"
      ]
     },
     "execution_count": 11,
     "metadata": {},
     "output_type": "execute_result"
    }
   ],
   "source": [
    "z2 = np.reshape(z1, (5,5))\n",
    "z2"
   ]
  },
  {
   "cell_type": "code",
   "execution_count": 12,
   "id": "30a69c42",
   "metadata": {},
   "outputs": [
    {
     "data": {
      "image/png": "[encoded data removed]",
      "text/plain": [
       "<Figure size 1600x1100 with 6 Axes>"
      ]
     },
     "metadata": {},
     "output_type": "display_data"
    }
   ],
   "source": [
    "fig = plt.figure(figsize=(16, 11))\n",
    "\n",
    "ax1 = fig.add_subplot(1, 3, 1)\n",
    "ax1.set_title('z')\n",
    "plt.imshow(z, cmap='binary')\n",
    "plt.colorbar(fraction=0.045)\n",
    "\n",
    "ax2 = fig.add_subplot(1, 3, 2)\n",
    "ax2.set_title('fit_2')\n",
    "plt.imshow(fit_2, cmap='binary')\n",
    "plt.colorbar(fraction=0.045)\n",
    "\n",
    "ax3 = fig.add_subplot(1, 3, 3)\n",
    "ax3.set_title('z - fit_2')\n",
    "plt.imshow(np.subtract(z, fit_2), cmap='binary')\n",
    "plt.colorbar(fraction=0.045)\n",
    "\n",
    "plt.show()"
   ]
  },
  {
   "cell_type": "code",
   "execution_count": 14,
   "id": "2865df36",
   "metadata": {},
   "outputs": [
    {
     "data": {
      "text/plain": [
       "array([[ 0.18084383, -0.30384313,  0.20333817, -0.25459019,  0.11533622],\n",
       "       [-0.37723041,  0.51442926,  0.08097656, -0.2553914 ,  0.19620973],\n",
       "       [-0.29366497,  0.30777664,  0.32923214, -0.26554436, -0.20129003],\n",
       "       [ 0.05301221, -0.0403379 ,  0.06584033, -0.18440759,  0.1115533 ],\n",
       "       [ 0.04580224,  0.12792049, -0.14980063, -0.35212726,  0.34595676]])"
      ]
     },
     "execution_count": 14,
     "metadata": {},
     "output_type": "execute_result"
    }
   ],
   "source": [
    "np.subtract(z, fit_2)"
   ]
  },
  {
   "cell_type": "code",
   "execution_count": 15,
   "id": "bbaae6dd",
   "metadata": {},
   "outputs": [
    {
     "ename": "ValueError",
     "evalue": "operands could not be broadcast together with shapes (5,5) (2,) ",
     "output_type": "error",
     "traceback": [
      "\u001b[1;31m---------------------------------------------------------------------------\u001b[0m",
      "\u001b[1;31mValueError\u001b[0m                                Traceback (most recent call last)",
      "Cell \u001b[1;32mIn[15], line 1\u001b[0m\n\u001b[1;32m----> 1\u001b[0m matrix \u001b[38;5;241m=\u001b[39m np\u001b[38;5;241m.\u001b[39mstack([np\u001b[38;5;241m.\u001b[39mprod(x\u001b[38;5;241m*\u001b[39m\u001b[38;5;241m*\u001b[39md, axis\u001b[38;5;241m=\u001b[39m\u001b[38;5;241m1\u001b[39m) \u001b[38;5;28;01mfor\u001b[39;00m d \u001b[38;5;129;01min\u001b[39;00m degrees], axis\u001b[38;5;241m=\u001b[39m\u001b[38;5;241m-\u001b[39m\u001b[38;5;241m1\u001b[39m)   \u001b[38;5;66;03m# stack monomials like columns\u001b[39;00m\n\u001b[0;32m      2\u001b[0m coeff \u001b[38;5;241m=\u001b[39m np\u001b[38;5;241m.\u001b[39mlinalg\u001b[38;5;241m.\u001b[39mlstsq(matrix, z)[\u001b[38;5;241m0\u001b[39m]    \u001b[38;5;66;03m# lstsq returns some additional info we ignore\u001b[39;00m\n\u001b[0;32m      3\u001b[0m \u001b[38;5;28mprint\u001b[39m(\u001b[38;5;124m\"\u001b[39m\u001b[38;5;124mCoefficients\u001b[39m\u001b[38;5;124m\"\u001b[39m, coeff)    \u001b[38;5;66;03m# in the same order as the monomials listed in \"degrees\"\u001b[39;00m\n",
      "Cell \u001b[1;32mIn[15], line 1\u001b[0m, in \u001b[0;36m<listcomp>\u001b[1;34m(.0)\u001b[0m\n\u001b[1;32m----> 1\u001b[0m matrix \u001b[38;5;241m=\u001b[39m np\u001b[38;5;241m.\u001b[39mstack([np\u001b[38;5;241m.\u001b[39mprod(x\u001b[38;5;241m*\u001b[39m\u001b[38;5;241m*\u001b[39md, axis\u001b[38;5;241m=\u001b[39m\u001b[38;5;241m1\u001b[39m) \u001b[38;5;28;01mfor\u001b[39;00m d \u001b[38;5;129;01min\u001b[39;00m degrees], axis\u001b[38;5;241m=\u001b[39m\u001b[38;5;241m-\u001b[39m\u001b[38;5;241m1\u001b[39m)   \u001b[38;5;66;03m# stack monomials like columns\u001b[39;00m\n\u001b[0;32m      2\u001b[0m coeff \u001b[38;5;241m=\u001b[39m np\u001b[38;5;241m.\u001b[39mlinalg\u001b[38;5;241m.\u001b[39mlstsq(matrix, z)[\u001b[38;5;241m0\u001b[39m]    \u001b[38;5;66;03m# lstsq returns some additional info we ignore\u001b[39;00m\n\u001b[0;32m      3\u001b[0m \u001b[38;5;28mprint\u001b[39m(\u001b[38;5;124m\"\u001b[39m\u001b[38;5;124mCoefficients\u001b[39m\u001b[38;5;124m\"\u001b[39m, coeff)    \u001b[38;5;66;03m# in the same order as the monomials listed in \"degrees\"\u001b[39;00m\n",
      "\u001b[1;31mValueError\u001b[0m: operands could not be broadcast together with shapes (5,5) (2,) "
     ]
    }
   ],
   "source": [
    "matrix = np.stack([np.prod(x**d, axis=1) for d in degrees], axis=-1)   # stack monomials like columns\n",
    "coeff = np.linalg.lstsq(matrix, z)[0]    # lstsq returns some additional info we ignore\n",
    "print(\"Coefficients\", coeff)    # in the same order as the monomials listed in \"degrees\"\n",
    "fit = np.dot(matrix, coeff) # вычисление рассчитанных значений на основе\n",
    "print(\"Fitted values\", fit)\n",
    "print(\"Original values\", y)"
   ]
  }
 ],
 "metadata": {
  "kernelspec": {
   "display_name": "-dem-filter",
   "language": "python",
   "name": "-dem-filter"
  },
  "language_info": {
   "codemirror_mode": {
    "name": "ipython",
    "version": 3
   },
   "file_extension": ".py",
   "mimetype": "text/x-python",
   "name": "python",
   "nbconvert_exporter": "python",
   "pygments_lexer": "ipython3",
   "version": "3.11.5"
  }
 },
 "nbformat": 4,
 "nbformat_minor": 5
}
